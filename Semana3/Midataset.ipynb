{
 "cells": [
  {
   "cell_type": "code",
   "execution_count": 1,
   "id": "18bd1f6d",
   "metadata": {},
   "outputs": [
    {
     "name": "stdout",
     "output_type": "stream",
     "text": [
      "Collecting ucimlrepoNote: you may need to restart the kernel to use updated packages.\n",
      "\n",
      "  Obtaining dependency information for ucimlrepo from https://files.pythonhosted.org/packages/3b/07/1252560194df2b4fad1cb3c46081b948331c63eb1bb0b97620d508d12a53/ucimlrepo-0.0.7-py3-none-any.whl.metadata\n",
      "  Downloading ucimlrepo-0.0.7-py3-none-any.whl.metadata (5.5 kB)\n",
      "Requirement already satisfied: pandas>=1.0.0 in c:\\users\\yjzabalam\\.anaconda\\nueva carpeta\\lib\\site-packages (from ucimlrepo) (2.0.3)\n",
      "Requirement already satisfied: certifi>=2020.12.5 in c:\\users\\yjzabalam\\.anaconda\\nueva carpeta\\lib\\site-packages (from ucimlrepo) (2023.7.22)\n",
      "Requirement already satisfied: python-dateutil>=2.8.2 in c:\\users\\yjzabalam\\.anaconda\\nueva carpeta\\lib\\site-packages (from pandas>=1.0.0->ucimlrepo) (2.8.2)\n",
      "Requirement already satisfied: pytz>=2020.1 in c:\\users\\yjzabalam\\.anaconda\\nueva carpeta\\lib\\site-packages (from pandas>=1.0.0->ucimlrepo) (2023.3.post1)\n",
      "Requirement already satisfied: tzdata>=2022.1 in c:\\users\\yjzabalam\\.anaconda\\nueva carpeta\\lib\\site-packages (from pandas>=1.0.0->ucimlrepo) (2023.3)\n",
      "Requirement already satisfied: numpy>=1.21.0 in c:\\users\\yjzabalam\\.anaconda\\nueva carpeta\\lib\\site-packages (from pandas>=1.0.0->ucimlrepo) (1.24.3)\n",
      "Requirement already satisfied: six>=1.5 in c:\\users\\yjzabalam\\.anaconda\\nueva carpeta\\lib\\site-packages (from python-dateutil>=2.8.2->pandas>=1.0.0->ucimlrepo) (1.16.0)\n",
      "Downloading ucimlrepo-0.0.7-py3-none-any.whl (8.0 kB)\n",
      "Installing collected packages: ucimlrepo\n",
      "Successfully installed ucimlrepo-0.0.7\n"
     ]
    }
   ],
   "source": [
    "##https://archive.ics.uci.edu/dataset/186/wine+quality###\n",
    "\n",
    "pip install ucimlrepo"
   ]
  },
  {
   "cell_type": "code",
   "execution_count": 2,
   "id": "6b367154",
   "metadata": {},
   "outputs": [
    {
     "name": "stdout",
     "output_type": "stream",
     "text": [
      "{'uci_id': 186, 'name': 'Wine Quality', 'repository_url': 'https://archive.ics.uci.edu/dataset/186/wine+quality', 'data_url': 'https://archive.ics.uci.edu/static/public/186/data.csv', 'abstract': 'Two datasets are included, related to red and white vinho verde wine samples, from the north of Portugal. The goal is to model wine quality based on physicochemical tests (see [Cortez et al., 2009], http://www3.dsi.uminho.pt/pcortez/wine/).', 'area': 'Business', 'tasks': ['Classification', 'Regression'], 'characteristics': ['Multivariate'], 'num_instances': 4898, 'num_features': 11, 'feature_types': ['Real'], 'demographics': [], 'target_col': ['quality'], 'index_col': None, 'has_missing_values': 'no', 'missing_values_symbol': None, 'year_of_dataset_creation': 2009, 'last_updated': 'Wed Nov 15 2023', 'dataset_doi': '10.24432/C56S3T', 'creators': ['Paulo Cortez', 'A. Cerdeira', 'F. Almeida', 'T. Matos', 'J. Reis'], 'intro_paper': {'title': 'Modeling wine preferences by data mining from physicochemical properties', 'authors': 'P. Cortez, A. Cerdeira, Fernando Almeida, Telmo Matos, J. Reis', 'published_in': 'Decision Support Systems', 'year': 2009, 'url': 'https://www.semanticscholar.org/paper/Modeling-wine-preferences-by-data-mining-from-Cortez-Cerdeira/bf15a0ccc14ac1deb5cea570c870389c16be019c', 'doi': None}, 'additional_info': {'summary': 'The two datasets are related to red and white variants of the Portuguese \"Vinho Verde\" wine. For more details, consult: http://www.vinhoverde.pt/en/ or the reference [Cortez et al., 2009].  Due to privacy and logistic issues, only physicochemical (inputs) and sensory (the output) variables are available (e.g. there is no data about grape types, wine brand, wine selling price, etc.).\\n\\nThese datasets can be viewed as classification or regression tasks.  The classes are ordered and not balanced (e.g. there are many more normal wines than excellent or poor ones). Outlier detection algorithms could be used to detect the few excellent or poor wines. Also, we are not sure if all input variables are relevant. So it could be interesting to test feature selection methods.\\n', 'purpose': None, 'funded_by': None, 'instances_represent': None, 'recommended_data_splits': None, 'sensitive_data': None, 'preprocessing_description': None, 'variable_info': 'For more information, read [Cortez et al., 2009].\\r\\nInput variables (based on physicochemical tests):\\r\\n   1 - fixed acidity\\r\\n   2 - volatile acidity\\r\\n   3 - citric acid\\r\\n   4 - residual sugar\\r\\n   5 - chlorides\\r\\n   6 - free sulfur dioxide\\r\\n   7 - total sulfur dioxide\\r\\n   8 - density\\r\\n   9 - pH\\r\\n   10 - sulphates\\r\\n   11 - alcohol\\r\\nOutput variable (based on sensory data): \\r\\n   12 - quality (score between 0 and 10)', 'citation': None}}\n",
      "                    name     role         type demographic  \\\n",
      "0          fixed_acidity  Feature   Continuous        None   \n",
      "1       volatile_acidity  Feature   Continuous        None   \n",
      "2            citric_acid  Feature   Continuous        None   \n",
      "3         residual_sugar  Feature   Continuous        None   \n",
      "4              chlorides  Feature   Continuous        None   \n",
      "5    free_sulfur_dioxide  Feature   Continuous        None   \n",
      "6   total_sulfur_dioxide  Feature   Continuous        None   \n",
      "7                density  Feature   Continuous        None   \n",
      "8                     pH  Feature   Continuous        None   \n",
      "9              sulphates  Feature   Continuous        None   \n",
      "10               alcohol  Feature   Continuous        None   \n",
      "11               quality   Target      Integer        None   \n",
      "12                 color    Other  Categorical        None   \n",
      "\n",
      "               description units missing_values  \n",
      "0                     None  None             no  \n",
      "1                     None  None             no  \n",
      "2                     None  None             no  \n",
      "3                     None  None             no  \n",
      "4                     None  None             no  \n",
      "5                     None  None             no  \n",
      "6                     None  None             no  \n",
      "7                     None  None             no  \n",
      "8                     None  None             no  \n",
      "9                     None  None             no  \n",
      "10                    None  None             no  \n",
      "11  score between 0 and 10  None             no  \n",
      "12            red or white  None             no  \n"
     ]
    }
   ],
   "source": [
    "from ucimlrepo import fetch_ucirepo \n",
    "  \n",
    "# fetch dataset \n",
    "wine_quality = fetch_ucirepo(id=186) \n",
    "  \n",
    "# data (as pandas dataframes) \n",
    "X = wine_quality.data.features \n",
    "y = wine_quality.data.targets \n",
    "  \n",
    "# metadata \n",
    "print(wine_quality.metadata) \n",
    "  \n",
    "# variable information \n",
    "print(wine_quality.variables) \n"
   ]
  },
  {
   "cell_type": "code",
   "execution_count": 17,
   "id": "8b5ab32d",
   "metadata": {},
   "outputs": [
    {
     "data": {
      "text/html": [
       "<div>\n",
       "<style scoped>\n",
       "    .dataframe tbody tr th:only-of-type {\n",
       "        vertical-align: middle;\n",
       "    }\n",
       "\n",
       "    .dataframe tbody tr th {\n",
       "        vertical-align: top;\n",
       "    }\n",
       "\n",
       "    .dataframe thead th {\n",
       "        text-align: right;\n",
       "    }\n",
       "</style>\n",
       "<table border=\"1\" class=\"dataframe\">\n",
       "  <thead>\n",
       "    <tr style=\"text-align: right;\">\n",
       "      <th></th>\n",
       "      <th>Tipo</th>\n",
       "      <th>Producto</th>\n",
       "      <th>fixed acidity</th>\n",
       "      <th>volatile acidity</th>\n",
       "      <th>citric acid</th>\n",
       "      <th>residual sugar</th>\n",
       "      <th>chlorides</th>\n",
       "      <th>free sulfur dioxide</th>\n",
       "      <th>total sulfur dioxide</th>\n",
       "      <th>density</th>\n",
       "      <th>pH</th>\n",
       "      <th>sulphates</th>\n",
       "      <th>alcohol</th>\n",
       "      <th>quality</th>\n",
       "    </tr>\n",
       "  </thead>\n",
       "  <tbody>\n",
       "    <tr>\n",
       "      <th>0</th>\n",
       "      <td>Botella</td>\n",
       "      <td>Chardonnay</td>\n",
       "      <td>7.0</td>\n",
       "      <td>0.27</td>\n",
       "      <td>0.36</td>\n",
       "      <td>20.7</td>\n",
       "      <td>0.045</td>\n",
       "      <td>45.0</td>\n",
       "      <td>170.0</td>\n",
       "      <td>1001.0000</td>\n",
       "      <td>3.00</td>\n",
       "      <td>0.45</td>\n",
       "      <td>8.8</td>\n",
       "      <td>6</td>\n",
       "    </tr>\n",
       "    <tr>\n",
       "      <th>1</th>\n",
       "      <td>Botella</td>\n",
       "      <td>Chardonnay</td>\n",
       "      <td>6.3</td>\n",
       "      <td>0.30</td>\n",
       "      <td>0.34</td>\n",
       "      <td>1.6</td>\n",
       "      <td>0.049</td>\n",
       "      <td>14.0</td>\n",
       "      <td>132.0</td>\n",
       "      <td>0.9940</td>\n",
       "      <td>3.30</td>\n",
       "      <td>0.49</td>\n",
       "      <td>9.5</td>\n",
       "      <td>6</td>\n",
       "    </tr>\n",
       "    <tr>\n",
       "      <th>2</th>\n",
       "      <td>Botella</td>\n",
       "      <td>Chardonnay</td>\n",
       "      <td>8.1</td>\n",
       "      <td>0.28</td>\n",
       "      <td>0.40</td>\n",
       "      <td>6.9</td>\n",
       "      <td>0.050</td>\n",
       "      <td>30.0</td>\n",
       "      <td>97.0</td>\n",
       "      <td>0.9951</td>\n",
       "      <td>3.26</td>\n",
       "      <td>0.44</td>\n",
       "      <td>10.1</td>\n",
       "      <td>6</td>\n",
       "    </tr>\n",
       "    <tr>\n",
       "      <th>3</th>\n",
       "      <td>Botella</td>\n",
       "      <td>Chardonnay</td>\n",
       "      <td>7.2</td>\n",
       "      <td>0.23</td>\n",
       "      <td>0.32</td>\n",
       "      <td>8.5</td>\n",
       "      <td>0.058</td>\n",
       "      <td>47.0</td>\n",
       "      <td>186.0</td>\n",
       "      <td>0.9956</td>\n",
       "      <td>3.19</td>\n",
       "      <td>0.40</td>\n",
       "      <td>9.9</td>\n",
       "      <td>6</td>\n",
       "    </tr>\n",
       "    <tr>\n",
       "      <th>4</th>\n",
       "      <td>Botella</td>\n",
       "      <td>Chardonnay</td>\n",
       "      <td>7.2</td>\n",
       "      <td>0.23</td>\n",
       "      <td>0.32</td>\n",
       "      <td>8.5</td>\n",
       "      <td>0.058</td>\n",
       "      <td>47.0</td>\n",
       "      <td>186.0</td>\n",
       "      <td>0.9956</td>\n",
       "      <td>3.19</td>\n",
       "      <td>0.40</td>\n",
       "      <td>9.9</td>\n",
       "      <td>6</td>\n",
       "    </tr>\n",
       "  </tbody>\n",
       "</table>\n",
       "</div>"
      ],
      "text/plain": [
       "      Tipo    Producto  fixed acidity  volatile acidity  citric acid  \\\n",
       "0  Botella  Chardonnay            7.0              0.27         0.36   \n",
       "1  Botella  Chardonnay            6.3              0.30         0.34   \n",
       "2  Botella  Chardonnay            8.1              0.28         0.40   \n",
       "3  Botella  Chardonnay            7.2              0.23         0.32   \n",
       "4  Botella  Chardonnay            7.2              0.23         0.32   \n",
       "\n",
       "   residual sugar  chlorides  free sulfur dioxide  total sulfur dioxide  \\\n",
       "0            20.7      0.045                 45.0                 170.0   \n",
       "1             1.6      0.049                 14.0                 132.0   \n",
       "2             6.9      0.050                 30.0                  97.0   \n",
       "3             8.5      0.058                 47.0                 186.0   \n",
       "4             8.5      0.058                 47.0                 186.0   \n",
       "\n",
       "     density    pH  sulphates  alcohol  quality  \n",
       "0  1001.0000  3.00       0.45      8.8        6  \n",
       "1     0.9940  3.30       0.49      9.5        6  \n",
       "2     0.9951  3.26       0.44     10.1        6  \n",
       "3     0.9956  3.19       0.40      9.9        6  \n",
       "4     0.9956  3.19       0.40      9.9        6  "
      ]
     },
     "execution_count": 17,
     "metadata": {},
     "output_type": "execute_result"
    }
   ],
   "source": [
    "import pandas as pd \n",
    "\n",
    "import numpy as np\n",
    "\n",
    "wini = pd.read_excel('C:/Users/yjzabalam/Downloads/winequality-white.xlsx')\n",
    "wini.head()"
   ]
  },
  {
   "cell_type": "code",
   "execution_count": 19,
   "id": "3f6be8e2",
   "metadata": {},
   "outputs": [
    {
     "name": "stderr",
     "output_type": "stream",
     "text": [
      "C:\\Users\\yjzabalam\\.anaconda\\Nueva carpeta\\Lib\\site-packages\\seaborn\\axisgrid.py:118: UserWarning: The figure layout has changed to tight\n",
      "  self._figure.tight_layout(*args, **kwargs)\n"
     ]
    },
    {
     "data": {
      "text/plain": [
       "<seaborn.axisgrid.FacetGrid at 0x1fa4326eb50>"
      ]
     },
     "execution_count": 19,
     "metadata": {},
     "output_type": "execute_result"
    },
    {
     "data": {
      "image/png": "[encoded data removed]",
      "text/plain": [
       "<Figure size 691.5x500 with 1 Axes>"
      ]
     },
     "metadata": {},
     "output_type": "display_data"
    }
   ],
   "source": [
    "import seaborn as sns\n",
    "# Specify colors for each values of the hue variable\n",
    "palette = {\n",
    "    'Chardonnay': 'Red',\n",
    "    'Sauvignon Blanc': 'orange',\n",
    "    'Cabernet Sauvignon': 'blue',\n",
    "    'Merlot': 'black',\n",
    "    'Pinot Noir ': 'green',\n",
    "}\n",
    "\n",
    "sns.catplot(\n",
    "    data=wini, y=\"Tipo\", hue=\"Producto\", kind=\"count\",\n",
    "    palette=palette, \n",
    ")"
   ]
  },
  {
   "cell_type": "code",
   "execution_count": 16,
   "id": "8e990f17",
   "metadata": {},
   "outputs": [
    {
     "data": {
      "text/plain": [
       "array([1.0010e+03, 9.9400e-01, 9.9510e-01, 9.9560e-01, 9.9490e-01,\n",
       "       9.9380e-01, 9.9080e-01, 9.9470e-01, 9.9200e-01, 9.9120e-01,\n",
       "       1.0002e+04, 9.9140e-01, 9.9280e-01, 9.8920e-01, 9.9170e-01,\n",
       "       9.9550e-01, 9.9300e-01, 9.9370e-01, 9.9610e-01, 9.9060e-01,\n",
       "       9.9740e-01, 9.9340e-01, 9.9390e-01, 9.9620e-01, 9.9050e-01,\n",
       "       9.9990e-01, 9.9540e-01, 9.9310e-01, 9.9500e-01, 9.9100e-01,\n",
       "       9.9110e-01, 9.9720e-01, 9.9260e-01, 9.9270e-01, 9.9030e-01,\n",
       "       9.9580e-01, 9.9640e-01, 9.9410e-01, 9.8980e-01, 9.9290e-01,\n",
       "       9.9850e-01, 9.9460e-01, 9.9660e-01, 9.9750e-01])"
      ]
     },
     "execution_count": 16,
     "metadata": {},
     "output_type": "execute_result"
    }
   ],
   "source": [
    "wini['density'].unique()"
   ]
  },
  {
   "cell_type": "code",
   "execution_count": null,
   "id": "c0975929",
   "metadata": {},
   "outputs": [],
   "source": [
    "palette = {\n",
    "    'Chardonnay': 'Red',\n",
    "    'Sauvignon Blanc': 'orange',\n",
    "    'Cabernet Sauvignon': 'blue',\n",
    "    'Merlot': 'black',\n",
    "    'Pinot Noir ': 'green',\n",
    "}\n",
    "# We need the encoded Item Size column to use it as the x-axis values in the plot\n",
    "pumpkins['density'] = encoded_pumpkins['ord__Item Size']\n",
    "\n",
    "g = sns.catplot(\n",
    "    data=pumpkins,\n",
    "    x=\"density\", y=\"Producto\", row='Tipo',\n",
    "    kind=\"box\", orient=\"h\",\n",
    "    sharex=False, margin_titles=True,\n",
    "    height=1.8, aspect=4, palette=palette,\n",
    ")\n",
    "# Defining axis labels \n",
    "g.set(xlabel=\"Item Size\", ylabel=\"\").set(xlim=(0,6))\n",
    "g.set_titles(row_template=\"{row_name}\")"
   ]
  },
  {
   "cell_type": "code",
   "execution_count": 1,
   "id": "1cbd0211",
   "metadata": {},
   "outputs": [
    {
     "name": "stdout",
     "output_type": "stream",
     "text": [
      "  Tipo Producto  fixed acidity  volatile acidity  citric acid  residual sugar  \\\n",
      "0    A        X            7.4              0.70         0.00             1.9   \n",
      "1    B        Y            7.8              0.88         0.04             2.6   \n",
      "2    A        Z            7.4              0.76         0.02             2.3   \n",
      "3    C        X            7.2              0.65         0.03             1.8   \n",
      "\n",
      "   chlorides  free sulfur dioxide  total sulfur dioxide  density    pH  \\\n",
      "0      0.076                   11                    34   0.9978  3.51   \n",
      "1      0.098                   25                    67   0.9968  3.20   \n",
      "2      0.092                   14                    54   0.9970  3.26   \n",
      "3      0.075                   15                    59   0.9966  3.18   \n",
      "\n",
      "   Tipo_encoded  Producto_X  Producto_Y  Producto_Z  \n",
      "0           0.0         1.0         0.0         0.0  \n",
      "1           1.0         0.0         1.0         0.0  \n",
      "2           0.0         0.0         0.0         1.0  \n",
      "3           2.0         1.0         0.0         0.0  \n"
     ]
    }
   ],
   "source": [
    "from sklearn.preprocessing import OrdinalEncoder, OneHotEncoder\n",
    "import pandas as pd\n",
    "\n",
    "# Suponiendo que tenemos un dataframe llamado df con las columnas mencionadas\n",
    "# Crear un dataframe de ejemplo con las columnas mencionadas\n",
    "df = pd.DataFrame({\n",
    "    'Tipo': ['A', 'B', 'A', 'C'],\n",
    "    'Producto': ['X', 'Y', 'Z', 'X'],\n",
    "    'fixed acidity': [7.4, 7.8, 7.4, 7.2],\n",
    "    'volatile acidity': [0.7, 0.88, 0.76, 0.65],\n",
    "    'citric acid': [0, 0.04, 0.02, 0.03],\n",
    "    'residual sugar': [1.9, 2.6, 2.3, 1.8],\n",
    "    'chlorides': [0.076, 0.098, 0.092, 0.075],\n",
    "    'free sulfur dioxide': [11, 25, 14, 15],\n",
    "    'total sulfur dioxide': [34, 67, 54, 59],\n",
    "    'density': [0.9978, 0.9968, 0.9970, 0.9966],\n",
    "    'pH': [3.51, 3.20, 3.26, 3.18]\n",
    "})\n",
    "\n",
    "# Definir el codificador ordinal para la columna 'Tipo'\n",
    "ordinal_encoder = OrdinalEncoder()\n",
    "df['Tipo_encoded'] = ordinal_encoder.fit_transform(df[['Tipo']])\n",
    "\n",
    "# Definir el codificador categórico para la columna 'Producto'\n",
    "onehot_encoder = OneHotEncoder()\n",
    "df_encoded = onehot_encoder.fit_transform(df[['Producto']]).toarray()\n",
    "# Crear un dataframe con las nuevas columnas categóricas\n",
    "df_onehot = pd.DataFrame(df_encoded, columns=onehot_encoder.get_feature_names_out(['Producto']))\n",
    "\n",
    "# Unir el dataframe original con las nuevas columnas categóricas\n",
    "df_final = pd.concat([df, df_onehot], axis=1)\n",
    "\n",
    "# Mostrar el dataframe final\n",
    "print(df_final)\n"
   ]
  },
  {
   "cell_type": "code",
   "execution_count": 2,
   "id": "9c2d5f57-354a-4239-8d6e-b8f41eae5ddd",
   "metadata": {},
   "outputs": [
    {
     "data": {
      "image/png": "[encoded data removed]",
      "text/plain": [
       "<Figure size 640x480 with 1 Axes>"
      ]
     },
     "metadata": {},
     "output_type": "display_data"
    }
   ],
   "source": [
    "import pandas as pd\n",
    "import seaborn as sns\n",
    "import matplotlib.pyplot as plt\n",
    "\n",
    "# Suponiendo que tenemos un dataframe llamado df con las columnas mencionadas\n",
    "# Crear un dataframe de ejemplo con las columnas mencionadas\n",
    "df = pd.DataFrame({\n",
    "    'Tipo': ['A', 'B', 'A', 'C'],\n",
    "    'Producto': ['X', 'Y', 'Z', 'X'],\n",
    "    'fixed acidity': [7.4, 7.8, 7.4, 7.2],\n",
    "    'volatile acidity': [0.7, 0.88, 0.76, 0.65],\n",
    "    'citric acid': [0, 0.04, 0.02, 0.03],\n",
    "    'residual sugar': [1.9, 2.6, 2.3, 1.8],\n",
    "    'chlorides': [0.076, 0.098, 0.092, 0.075],\n",
    "    'free sulfur dioxide': [11, 25, 14, 15],\n",
    "    'total sulfur dioxide': [34, 67, 54, 59],\n",
    "    'density': [0.9978, 0.9968, 0.9970, 0.9966],\n",
    "    'pH': [3.51, 3.20, 3.26, 3.18]\n",
    "})\n",
    "\n",
    "# Graficar la columna 'Tipo'\n",
    "sns.countplot(x='Tipo', data=df)\n",
    "plt.title('Distribución de Tipos')\n",
    "plt.show()\n"
   ]
  },
  {
   "cell_type": "code",
   "execution_count": 4,
   "id": "d08df0e7-b578-41dd-ad44-1ff35af956ce",
   "metadata": {},
   "outputs": [
    {
     "name": "stderr",
     "output_type": "stream",
     "text": [
      "C:\\Users\\yjzabalam\\AppData\\Local\\Temp\\ipykernel_16236\\3472625880.py:29: FutureWarning: \n",
      "\n",
      "Passing `palette` without assigning `hue` is deprecated and will be removed in v0.14.0. Assign the `y` variable to `hue` and set `legend=False` for the same effect.\n",
      "\n",
      "  g = sns.catplot(\n"
     ]
    },
    {
     "data": {
      "image/png": "[encoded data removed]",
      "text/plain": [
       "<Figure size 720x540 with 3 Axes>"
      ]
     },
     "metadata": {},
     "output_type": "display_data"
    }
   ],
   "source": [
    "import pandas as pd\n",
    "import seaborn as sns\n",
    "import matplotlib.pyplot as plt\n",
    "\n",
    "# Suponiendo que tenemos un dataframe llamado wini con las columnas mencionadas\n",
    "# Crear un dataframe de ejemplo con las columnas mencionadas\n",
    "wini = pd.DataFrame({\n",
    "    'Tipo': ['A', 'B', 'A', 'C'],\n",
    "    'Producto': ['X', 'Y', 'Z', 'X'],\n",
    "    'fixed acidity': [7.4, 7.8, 7.4, 7.2],\n",
    "    'volatile acidity': [0.7, 0.88, 0.76, 0.65],\n",
    "    'citric acid': [0, 0.04, 0.02, 0.03],\n",
    "    'residual sugar': [1.9, 2.6, 2.3, 1.8],\n",
    "    'chlorides': [0.076, 0.098, 0.092, 0.075],\n",
    "    'free sulfur dioxide': [11, 25, 14, 15],\n",
    "    'total sulfur dioxide': [34, 67, 54, 59],\n",
    "    'density': [0.9978, 0.9968, 0.9970, 0.9966],\n",
    "    'pH': [3.51, 3.20, 3.26, 3.18]\n",
    "})\n",
    "\n",
    "# Definir el palette personalizado\n",
    "palette = {\n",
    "    'A': 'orange',\n",
    "    'B': 'wheat',\n",
    "    'C': 'lightblue'\n",
    "}\n",
    "\n",
    "# Crear el gráfico utilizando catplot de Seaborn\n",
    "g = sns.catplot(\n",
    "    data=wini,\n",
    "    x=\"density\", y=\"Tipo\", row='Producto',\n",
    "    kind=\"box\", orient=\"h\",\n",
    "    sharex=False, margin_titles=True,\n",
    "    height=1.8, aspect=4, palette=palette,\n",
    ")\n",
    "\n",
    "# Definir etiquetas de los ejes\n",
    "g.set(xlabel=\"density\", ylabel=\"Tipo\").set(xlim=(0, 10))\n",
    "\n",
    "# Definir títulos de las filas\n",
    "g.set_titles(row_template=\"{row_name}\")\n",
    "\n",
    "# Mostrar el gráfico\n",
    "plt.show()\n"
   ]
  },
  {
   "cell_type": "code",
   "execution_count": null,
   "id": "051f8ff3-2544-4401-91c0-2baa072c244a",
   "metadata": {},
   "outputs": [],
   "source": []
  }
 ],
 "metadata": {
  "kernelspec": {
   "display_name": "Python 3 (ipykernel)",
   "language": "python",
   "name": "python3"
  },
  "language_info": {
   "codemirror_mode": {
    "name": "ipython",
    "version": 3
   },
   "file_extension": ".py",
   "mimetype": "text/x-python",
   "name": "python",
   "nbconvert_exporter": "python",
   "pygments_lexer": "ipython3",
   "version": "3.9.18"
  }
 },
 "nbformat": 4,
 "nbformat_minor": 5
}
