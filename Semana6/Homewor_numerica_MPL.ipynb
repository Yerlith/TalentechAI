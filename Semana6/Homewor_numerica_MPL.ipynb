{
 "cells": [
  {
   "cell_type": "code",
   "execution_count": 1,
   "id": "d8054d26-859b-4ef3-bbcb-7b26861bc5f4",
   "metadata": {},
   "outputs": [
    {
     "name": "stdout",
     "output_type": "stream",
     "text": [
      "\n",
      " W = \n",
      " [[ 1  1]\n",
      " [-1  1]]\n",
      "\n",
      " X = \n",
      " [[1 5 2]\n",
      " [2 4 2]]\n",
      "\n",
      " WX_1 = \n",
      " [[ 3  9  4]\n",
      " [ 1 -1  0]]\n",
      "\n",
      " WX_2 = \n",
      " [[ 3  9  4]\n",
      " [ 1 -1  0]]\n"
     ]
    }
   ],
   "source": [
    "import numpy as np\n",
    "\n",
    "array_1 = np.array(     [ [1, 1], [-1,1] ]   )\n",
    "\n",
    "\n",
    "W = np.array(     [ [1, 1], [-1,1] ]   )\n",
    "print(\"\\n W = \\n\", W)\n",
    "#print()\n",
    "\n",
    "\n",
    "array_2 = np.array (   [  [1, 5, 2],    [2, 4, 2] ]    )\n",
    "\n",
    "X = np.array (   [  [1, 5, 2],    [2, 4, 2] ]    )\n",
    "print(\"\\n X = \\n\",X)\n",
    "#print()\n",
    "\n",
    "WX_1 = np.dot(W,X)\n",
    "print(\"\\n WX_1 = \\n\",WX_1)\n",
    "#print()\n",
    "\n",
    "WX_2 = np.matmul(W,X)\n",
    "print(\"\\n WX_2 = \\n\",WX_2)\n",
    "#print()\n",
    "\n",
    "#XW = np.matmul(X,W)\n",
    "#print(XW)\n",
    "#print()\n",
    "# Lo anterior no funciona por lo siguiente:\n",
    "#X_(2,3) por W_(2,2) = Resultado_(2,2)?\n",
    "#porque el numero de columnas de X es diferente al numero de filas de W"
   ]
  },
  {
   "cell_type": "code",
   "execution_count": 2,
   "id": "c605eaab-2bcd-4c58-9506-8b10095611cb",
   "metadata": {},
   "outputs": [
    {
     "name": "stdout",
     "output_type": "stream",
     "text": [
      "[[ 1  1  0 -1]\n",
      " [-1  1  2 -3]\n",
      " [-1  1  5  0]]\n",
      "\n",
      "[[ 1  5  2 -1  0]\n",
      " [ 2  4  2  1 -1]\n",
      " [ 7  5  6 -1  1]\n",
      " [-8  0  4 -1  3]]\n",
      "\n",
      "[[0. 0. 0. 0. 0.]\n",
      " [0. 0. 0. 0. 0.]\n",
      " [0. 0. 0. 0. 0.]]\n",
      "\n",
      "[[11.  9.  0.  1. -4.]\n",
      " [39.  9.  0.  3. -8.]\n",
      " [36. 24. 30. -3.  4.]]\n"
     ]
    }
   ],
   "source": [
    "W = np.array([   [1,1,0,-1], [-1,1,2,-3], [-1,1,5,0]  ])\n",
    "print(W)\n",
    "\n",
    "print()\n",
    "\n",
    "x = np.array([ [1,5,2,-1,0], [2,4,2,1,-1], [7,5,6,-1,1], [-8,0,4,-1,3] ])\n",
    "print(x)\n",
    "print()\n",
    "\n",
    "b = np.zeros((3, 5)) # suponer todos los valores de los biases en cero\n",
    "print(b)\n",
    "print()\n",
    "\n",
    "Z = np.matmul(W,x) + b\n",
    "print(Z)"
   ]
  },
  {
   "cell_type": "code",
   "execution_count": 6,
   "id": "056a6768-988d-4718-87ff-0fb56a9aa730",
   "metadata": {},
   "outputs": [
    {
     "data": {
      "text/plain": [
       "array([1, 4, 9])"
      ]
     },
     "execution_count": 6,
     "metadata": {},
     "output_type": "execute_result"
    }
   ],
   "source": [
    "#array_r_bad1 = array_1 * array_2\n",
    "#print(array_r_bad1)\n",
    "\n",
    "np.array([1,2,3])*np.array([1,2,3])\n"
   ]
  },
  {
   "cell_type": "code",
   "execution_count": 7,
   "id": "06e2d4ca-f147-47a5-bf65-f4e4664cb2f1",
   "metadata": {},
   "outputs": [
    {
     "name": "stdout",
     "output_type": "stream",
     "text": [
      "[  6 -20]\n"
     ]
    }
   ],
   "source": [
    "print(np.array([2,4])*np.array([3,-5]))"
   ]
  },
  {
   "cell_type": "code",
   "execution_count": 8,
   "id": "62cde7f6-dbe7-4066-a23a-c442dd09f4ae",
   "metadata": {},
   "outputs": [
    {
     "data": {
      "text/plain": [
       "array([  6, -20])"
      ]
     },
     "execution_count": 8,
     "metadata": {},
     "output_type": "execute_result"
    }
   ],
   "source": [
    "np.multiply(np.array([2,4]), np.array([3,-5]))"
   ]
  },
  {
   "cell_type": "code",
   "execution_count": 10,
   "id": "f0492a2d-40c4-457e-9be4-71e2f52d4bd6",
   "metadata": {},
   "outputs": [
    {
     "data": {
      "text/plain": [
       "array([[ 1,  4,  9],\n",
       "       [16, 25, 36]])"
      ]
     },
     "execution_count": 10,
     "metadata": {},
     "output_type": "execute_result"
    }
   ],
   "source": [
    "np.array([[1,2,3],[4,5,6]])*np.array([[1,2,3],[4,5,6]])\n"
   ]
  },
  {
   "cell_type": "code",
   "execution_count": 12,
   "id": "f4957cf2-e6d3-42d4-98ed-2bbd05b615e8",
   "metadata": {},
   "outputs": [
    {
     "data": {
      "text/plain": [
       "array([[ 1,  4,  9],\n",
       "       [16, 25, 36]])"
      ]
     },
     "execution_count": 12,
     "metadata": {},
     "output_type": "execute_result"
    }
   ],
   "source": [
    "np.multiply(np.array([[1,2,3],[4,5,6]]), np.array([[1,2,3],[4,5,6]]))"
   ]
  },
  {
   "cell_type": "code",
   "execution_count": 13,
   "id": "5b6ea7d4-ad77-4d86-b783-030e7cabbbf3",
   "metadata": {},
   "outputs": [],
   "source": [
    "def get_output_from_MLP_input(W,x,b,activation=\"linear\"):\n",
    "  #print(\"W = \",end='\\n')\n",
    "  #print(W)\n",
    "  print(f\"W = \\n {W} \\n\")\n",
    "  #print()\n",
    "\n",
    "  print(\"x = \",end='\\n')\n",
    "  print(x)\n",
    "  print(\"b = \",end='\\n')\n",
    "  print(b)\n",
    "  # arguments:\n",
    "  # W,x and b are arrays\n",
    "\n",
    "  # operations\n",
    "  # Z = W x  +  b\n",
    "  #Z = np.matmul(W,x) + b\n",
    "  Z = np.dot(W,x) + b\n",
    "\n",
    "  print(\"Z = \",end='\\n')\n",
    "  print(Z)\n",
    "\n",
    "  if activation==\"linear\":\n",
    "    y = Z\n",
    "\n",
    "  if activation==\"relu\":\n",
    "    # Ternary operator to define a relu function\n",
    "    #y = Z if Z>=0 else 0\n",
    "    #y = Z if Z>0 else 0\n",
    "    #y = 0 if Z<0 else Z\n",
    "    #y = 0 if Z<=0 else Z\n",
    "    y = np.array([0 if z<=0 else z for z in Z])\n",
    "\n",
    "  #TO-DO:\n",
    "  \"\"\"\n",
    "  if activation==\"sigmoid\":\n",
    "    #\n",
    "  if activation==\"tanh\":\n",
    "    #\n",
    "  # Use many others\n",
    "  if activation==\"\":\n",
    "    #\n",
    "  if activation==\"\":\n",
    "    #\n",
    "  ...\n",
    "\n",
    "  \"\"\"\n",
    "\n",
    "  print(\"y = \",end='\\n')\n",
    "  print(y)\n",
    "\n",
    "  return y"
   ]
  },
  {
   "cell_type": "code",
   "execution_count": 2,
   "id": "3909a987-bc8d-402d-adef-6cdfc6984f54",
   "metadata": {},
   "outputs": [
    {
     "name": "stdout",
     "output_type": "stream",
     "text": [
      "W = \n",
      " [[8.79249798 8.02605362]\n",
      " [8.75739298 8.51560477]\n",
      " [9.28485984 8.3314862 ]] \n",
      "\n",
      "x = \n",
      "[8.06946434 9.08669727]\n",
      "b = \n",
      "[9.82090748 9.09875745 9.58638877]\n",
      "Z = \n",
      "[153.70197591 157.14495049 160.21592711]\n",
      "y = \n",
      "[153.70197591 157.14495049 160.21592711]\n",
      "Resultado de la operación numérica:\n",
      "[153.70197591 157.14495049 160.21592711]\n"
     ]
    }
   ],
   "source": [
    "#####Resultado\n",
    "\n",
    "import numpy as np\n",
    "\n",
    "def get_output_from_MLP_input(W, x, b, activation=\"linear\"):\n",
    "    # Generate random values for W, x, and b greater than 8\n",
    "    W = np.random.uniform(8, 10, size=W.shape)\n",
    "    x = np.random.uniform(8, 10, size=x.shape)\n",
    "    b = np.random.uniform(8, 10, size=b.shape)\n",
    "    \n",
    "    print(f\"W = \\n {W} \\n\")\n",
    "    print(\"x = \",end='\\n')\n",
    "    print(x)\n",
    "    print(\"b = \",end='\\n')\n",
    "    print(b)\n",
    "    \n",
    "    # Perform the operation Z = W x + b\n",
    "    Z = np.dot(W, x) + b\n",
    "    \n",
    "    print(\"Z = \",end='\\n')\n",
    "    print(Z)\n",
    "    \n",
    "    if activation == \"linear\":\n",
    "        y = Z\n",
    "    elif activation == \"relu\":\n",
    "        y = np.maximum(0, Z)  \n",
    "    else:\n",
    "        raise ValueError(f\"Activation function '{activation}' not implemented\")\n",
    "    \n",
    "    print(\"y = \",end='\\n')\n",
    "    print(y)\n",
    "    \n",
    "    return y\n",
    "\n",
    "\n",
    "W = np.random.rand(3, 2)  \n",
    "x = np.random.rand(2)     \n",
    "b = np.random.rand(3)     \n",
    "\n",
    "result = get_output_from_MLP_input(W, x, b, activation=\"relu\")\n",
    "print(\"Resultado de la operación numérica:\")\n",
    "print(result)\n"
   ]
  },
  {
   "cell_type": "code",
   "execution_count": 3,
   "id": "04e88a75-5026-4a5e-a4dc-2f6227d1516a",
   "metadata": {},
   "outputs": [
    {
     "name": "stdout",
     "output_type": "stream",
     "text": [
      "W = \n",
      " [[8.37913378 9.64997859 8.37171306]\n",
      " [9.33561784 9.08049381 9.12538025]\n",
      " [9.48443014 9.02029568 8.04276767]\n",
      " [9.6289021  8.19755984 8.2970811 ]] \n",
      "\n",
      "x = \n",
      "[9.39540455 8.93604799 8.76778057]\n",
      "b = \n",
      "[8.2065647  9.75451621 9.77006245 8.81355594]\n",
      "Z = \n",
      "[246.56593115 258.61948257 250.00313762 245.28176117]\n",
      "y = \n",
      "[246.56593115 258.61948257 250.00313762 245.28176117]\n"
     ]
    },
    {
     "data": {
      "text/plain": [
       "array([246.56593115, 258.61948257, 250.00313762, 245.28176117])"
      ]
     },
     "execution_count": 3,
     "metadata": {},
     "output_type": "execute_result"
    }
   ],
   "source": [
    "W = np.array([ [1,-1,1]  , [1,1,0] ,  [0,1,1] ,  [1,0,1]    ])\n",
    "x = np.array([2, 1, 3])\n",
    "b = np.array([-5, 0, 1, -2])\n",
    "\n",
    "y = get_output_from_MLP_input(W,x,b)\n",
    "y"
   ]
  },
  {
   "cell_type": "code",
   "execution_count": 4,
   "id": "370d301b-c17f-455e-9d01-3bccc264abc8",
   "metadata": {},
   "outputs": [
    {
     "name": "stdout",
     "output_type": "stream",
     "text": [
      "W = \n",
      " [[8.73858883 9.64006486 9.91130897]\n",
      " [8.41450108 8.64884602 8.57994253]\n",
      " [9.8924178  8.75902304 9.24545712]\n",
      " [9.12513173 8.41884462 9.87048633]] \n",
      "\n",
      "x = \n",
      "[9.18013716 9.02318149 9.55139717]\n",
      "b = \n",
      "[9.21292082 8.62985319 9.84045238 8.68554723]\n",
      "Z = \n",
      "[271.08526814 245.86667329 267.99549213 262.69720623]\n",
      "y = \n",
      "[271.08526814 245.86667329 267.99549213 262.69720623]\n"
     ]
    },
    {
     "data": {
      "text/plain": [
       "array([271.08526814, 245.86667329, 267.99549213, 262.69720623])"
      ]
     },
     "execution_count": 4,
     "metadata": {},
     "output_type": "execute_result"
    }
   ],
   "source": [
    "W = np.array([ [1,-1,1]  , [1,1,0] ,  [0,1,1] ,  [1,0,1]    ])\n",
    "x = np.array([2, 1, 3])\n",
    "b = np.array([-5, 0, 1, -2])\n",
    "\n",
    "y = get_output_from_MLP_input(W,x,b, activation=\"linear\")\n",
    "y"
   ]
  },
  {
   "cell_type": "code",
   "execution_count": 5,
   "id": "972d5aaf-3ccb-4155-932a-8df190b66513",
   "metadata": {},
   "outputs": [
    {
     "name": "stdout",
     "output_type": "stream",
     "text": [
      "W = \n",
      " [[8.98893506 9.29477039 8.01496957]\n",
      " [9.90938757 8.92911297 8.46103486]\n",
      " [8.13040486 8.9667799  9.00767835]\n",
      " [8.77992007 8.98789059 8.33618988]] \n",
      "\n",
      "x = \n",
      "[8.471588   8.24086321 9.50457343]\n",
      "b = \n",
      "[8.96407438 9.13605616 9.11013805 9.34125462]\n",
      "Z = \n",
      "[237.89042686 247.0864306  237.4957251  237.02102579]\n",
      "y = \n",
      "[237.89042686 247.0864306  237.4957251  237.02102579]\n"
     ]
    },
    {
     "data": {
      "text/plain": [
       "array([237.89042686, 247.0864306 , 237.4957251 , 237.02102579])"
      ]
     },
     "execution_count": 5,
     "metadata": {},
     "output_type": "execute_result"
    }
   ],
   "source": [
    "W = np.array([ [1,-1,1]  , [1,1,0] ,  [0,1,1] ,  [1,0,1]    ])\n",
    "x = np.array([2, 1, 3])\n",
    "b = np.array([-5, 0, 1, -2])\n",
    "\n",
    "y = get_output_from_MLP_input(W,x,b,\"relu\")\n",
    "y"
   ]
  },
  {
   "cell_type": "code",
   "execution_count": 7,
   "id": "bd008925-f6ce-49f0-a03e-1db27a6a5688",
   "metadata": {},
   "outputs": [
    {
     "name": "stdout",
     "output_type": "stream",
     "text": [
      "W = \n",
      " [[8.38912269 8.97027393 8.70268633]\n",
      " [8.22214592 8.95909357 8.1539433 ]\n",
      " [8.31370963 8.09939541 9.43497137]\n",
      " [9.41632296 9.16920671 8.30433854]] \n",
      "\n",
      "x = \n",
      "[9.86068506 8.40809929 9.48466854]\n",
      "b = \n",
      "[9.63424439 9.51075561 8.61603475 8.25829315]\n",
      "Z = \n",
      "[250.32179041 243.25314496 248.18300418 256.96918727]\n",
      "y = \n",
      "[250.32179041 243.25314496 248.18300418 256.96918727]\n"
     ]
    }
   ],
   "source": [
    "y = get_output_from_MLP_input(W, x, b, activation=\"linear\")"
   ]
  },
  {
   "cell_type": "code",
   "execution_count": null,
   "id": "8fe40106-f323-49dd-8945-89a2d25eaf78",
   "metadata": {},
   "outputs": [],
   "source": []
  }
 ],
 "metadata": {
  "kernelspec": {
   "display_name": "Python 3 (ipykernel)",
   "language": "python",
   "name": "python3"
  },
  "language_info": {
   "codemirror_mode": {
    "name": "ipython",
    "version": 3
   },
   "file_extension": ".py",
   "mimetype": "text/x-python",
   "name": "python",
   "nbconvert_exporter": "python",
   "pygments_lexer": "ipython3",
   "version": "3.9.18"
  }
 },
 "nbformat": 4,
 "nbformat_minor": 5
}
