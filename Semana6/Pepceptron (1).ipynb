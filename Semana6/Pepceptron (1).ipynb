{
 "cells": [
  {
   "cell_type": "code",
   "execution_count": 13,
   "id": "d1a22a13-13aa-4af4-b158-e82435508694",
   "metadata": {},
   "outputs": [
    {
     "name": "stdout",
     "output_type": "stream",
     "text": [
      "Predicciones:  [0 0 0 1]\n"
     ]
    }
   ],
   "source": [
    "import numpy as np\n",
    "\n",
    "class Perceptron:\n",
    "    def __init__(self, learning_rate=0.01, n_iters=1000):\n",
    "        self.lr = learning_rate\n",
    "        self.n_iters = n_iters\n",
    "        self.activation_func = self._unit_step_func\n",
    "        self.weights = None\n",
    "        self.bias = None\n",
    "\n",
    "    def fit(self, X, y):\n",
    "        n_samples, n_features = X.shape\n",
    "\n",
    "        # init parameters\n",
    "        self.weights = np.zeros(n_features)\n",
    "        self.bias = 0\n",
    "\n",
    "        y_ = np.array([1 if i > 10 else 0 for i in y])\n",
    "\n",
    "        for _ in range(self.n_iters):\n",
    "            \n",
    "            for idx, x_i in enumerate(X):\n",
    "\n",
    "                linear_output = np.dot(x_i, self.weights) + self.bias\n",
    "                y_predicted = self.activation_func(linear_output)\n",
    "                \n",
    "                # Perceptron update rule\n",
    "                update = self.lr * (y_[idx] - y_predicted)\n",
    "\n",
    "                self.weights += update * x_i\n",
    "                self.bias += update\n",
    "\n",
    "    def predict(self, X):\n",
    "        linear_output = np.dot(X, self.weights) + self.bias\n",
    "        y_predicted = self.activation_func(linear_output)\n",
    "        return y_predicted\n",
    "\n",
    "    def _unit_step_func(self, x):\n",
    "        return np.where(x>=10, 1, 0)\n",
    "\n",
    "# Datos de entrada\n",
    "X = np.array([[10, 10], [10, 20], [20, 10], [20, 20]])\n",
    "\n",
    "# Etiquetas\n",
    "y = np.array([10, 10, 10, 20])\n",
    "\n",
    "p = Perceptron(learning_rate=0.01, n_iters=1000)\n",
    "p.fit(X, y)\n",
    "\n",
    "# Hacer predicciones\n",
    "print(\"Predicciones: \", p.predict(X))\n"
   ]
  },
  {
   "cell_type": "code",
   "execution_count": 16,
   "id": "159c9395-05ae-40c1-9c9e-e8c79208cf8a",
   "metadata": {},
   "outputs": [
    {
     "name": "stdout",
     "output_type": "stream",
     "text": [
      "[[1.13494672e-05 1.13494672e-05]\n",
      " [1.13494672e-05 2.49988651e-01]\n",
      " [2.49988651e-01 1.13494672e-05]\n",
      " [2.49988651e-01 2.49988651e-01]]\n"
     ]
    }
   ],
   "source": [
    "y = np.exp(X)/np.sum(np.exp(X))\n",
    "print(y)"
   ]
  },
  {
   "cell_type": "code",
   "execution_count": null,
   "id": "954b9dd9-a7ed-4eae-9f20-4b6cbd66b57c",
   "metadata": {},
   "outputs": [],
   "source": []
  }
 ],
 "metadata": {
  "kernelspec": {
   "display_name": "Python 3 (ipykernel)",
   "language": "python",
   "name": "python3"
  },
  "language_info": {
   "codemirror_mode": {
    "name": "ipython",
    "version": 3
   },
   "file_extension": ".py",
   "mimetype": "text/x-python",
   "name": "python",
   "nbconvert_exporter": "python",
   "pygments_lexer": "ipython3",
   "version": "3.9.18"
  }
 },
 "nbformat": 4,
 "nbformat_minor": 5
}
