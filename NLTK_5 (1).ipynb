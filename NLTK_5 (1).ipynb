{
  "nbformat": 4,
  "nbformat_minor": 0,
  "metadata": {
    "colab": {
      "provenance": []
    },
    "kernelspec": {
      "name": "python3",
      "display_name": "Python 3"
    },
    "language_info": {
      "name": "python"
    }
  },
  "cells": [
    {
      "cell_type": "code",
      "execution_count": null,
      "metadata": {
        "colab": {
          "base_uri": "https://localhost:8080/"
        },
        "id": "h35EVXV5Bcgz",
        "outputId": "120a0c85-cb16-4c32-cf42-389fa1aeca83"
      },
      "outputs": [
        {
          "output_type": "stream",
          "name": "stdout",
          "text": [
            "Requirement already satisfied: nltk in /usr/local/lib/python3.10/dist-packages (3.8.1)\n",
            "Requirement already satisfied: click in /usr/local/lib/python3.10/dist-packages (from nltk) (8.1.7)\n",
            "Requirement already satisfied: joblib in /usr/local/lib/python3.10/dist-packages (from nltk) (1.4.2)\n",
            "Requirement already satisfied: regex>=2021.8.3 in /usr/local/lib/python3.10/dist-packages (from nltk) (2024.5.15)\n",
            "Requirement already satisfied: tqdm in /usr/local/lib/python3.10/dist-packages (from nltk) (4.66.4)\n"
          ]
        },
        {
          "output_type": "stream",
          "name": "stderr",
          "text": [
            "[nltk_data] Downloading package punkt to /root/nltk_data...\n",
            "[nltk_data]   Unzipping tokenizers/punkt.zip.\n"
          ]
        },
        {
          "output_type": "execute_result",
          "data": {
            "text/plain": [
              "True"
            ]
          },
          "metadata": {},
          "execution_count": 1
        }
      ],
      "source": [
        "!pip install nltk\n",
        "import nltk\n",
        "nltk.download('punkt')\n"
      ]
    },
    {
      "cell_type": "code",
      "source": [
        "from nltk.tokenize import word_tokenize\n",
        "sentence =\"NLTK es una bliblioteca de procesamiento de lenguaje natural\"\n",
        "tokens = word_tokenize(sentence)\n",
        "print(tokens)\n"
      ],
      "metadata": {
        "colab": {
          "base_uri": "https://localhost:8080/"
        },
        "id": "TfGviERKBsjY",
        "outputId": "170991d5-10c8-4494-b709-696db15eb351"
      },
      "execution_count": null,
      "outputs": [
        {
          "output_type": "stream",
          "name": "stdout",
          "text": [
            "['NLTK', 'es', 'una', 'bliblioteca', 'de', 'procesamiento', 'de', 'lenguaje', 'natural']\n"
          ]
        }
      ]
    },
    {
      "cell_type": "code",
      "source": [
        "from nltk.stem import PorterStemmer\n",
        "words = [\"runnnin\",\"plays\",\"jumped\"]\n",
        "stemmer = PorterStemmer()\n",
        "stems=[stemmer.stem(word) for word in words]\n",
        "print(stems)"
      ],
      "metadata": {
        "colab": {
          "base_uri": "https://localhost:8080/"
        },
        "id": "6tXhmnjhCA3g",
        "outputId": "c24db7b8-4254-4335-8f3d-7229fa65e117"
      },
      "execution_count": null,
      "outputs": [
        {
          "output_type": "stream",
          "name": "stdout",
          "text": [
            "['runnnin', 'play', 'jump']\n"
          ]
        }
      ]
    },
    {
      "cell_type": "code",
      "source": [
        "nltk.download('averaged_perceptron_tagger')\n",
        "from nltk import pos_tag\n",
        "from nltk.tokenize import word_tokenize\n",
        "sentence = \"NLTK es una biblioteca de procesamiento de lenguaje natural\"\n",
        "tokens = word_tokenize(sentence)\n",
        "pos_tags = pos_tag(tokens)\n",
        "print(pos_tags)"
      ],
      "metadata": {
        "colab": {
          "base_uri": "https://localhost:8080/"
        },
        "id": "EWKrDx25Cnar",
        "outputId": "91a1bfb0-dc28-4d6b-9667-49da66463483"
      },
      "execution_count": null,
      "outputs": [
        {
          "output_type": "stream",
          "name": "stderr",
          "text": [
            "[nltk_data] Downloading package averaged_perceptron_tagger to\n",
            "[nltk_data]     /root/nltk_data...\n",
            "[nltk_data]   Unzipping taggers/averaged_perceptron_tagger.zip.\n"
          ]
        },
        {
          "output_type": "stream",
          "name": "stdout",
          "text": [
            "[('NLTK', 'NNP'), ('es', 'CC'), ('una', 'JJ'), ('biblioteca', 'NN'), ('de', 'IN'), ('procesamiento', 'FW'), ('de', 'FW'), ('lenguaje', 'FW'), ('natural', 'JJ')]\n"
          ]
        }
      ]
    },
    {
      "cell_type": "code",
      "source": [
        "import nltk\n",
        "import random"
      ],
      "metadata": {
        "id": "FnAYszdwDZlY"
      },
      "execution_count": null,
      "outputs": []
    },
    {
      "cell_type": "code",
      "source": [
        "data=[(\"I love this movie\", \"positive\"),\n",
        "    (\"This movie is terrible\", \"negative\"),\n",
        "    (\"This movie is great\", \"positive\"),\n",
        "    (\"I dislike this movie\", \"negative\"),\n",
        "    (\"This film is amazing\", \"positive\"),\n",
        "    (\"I can't stand watching this movie\", \"negative\"),\n",
        "    (\"The acting in this movie is phenomenal\", \"positive\"),\n",
        "    (\"I regret wasting my time on this film\", \"negative\"),\n",
        "    (\"I thoroughly enjoyed this movie\", \"positive\"),\n",
        "    (\"This movie lacks depth and substance\", \"negative\"),\n",
        "    (\"The plot of this movie was captivating\", \"positive\"),\n",
        "    (\"I found the characters in this film to be very engaging\", \"positive\"),\n",
        "    (\"The special effects in this movie were impressive\", \"positive\"),\n",
        "    (\"The storyline was predictable and unoriginal\", \"negative\"),\n",
        "    (\"I was disappointed by the lack of character development\", \"negative\"),\n",
        "    (\"The cinematography in this film was stunning\", \"positive\"),\n",
        "    (\"The dialogue felt forced and unnatural\", \"negative\"),\n",
        "    (\"The pacing of the movie was too slow for my liking\", \"negative\"),\n",
        "    (\"I was pleasantly surprised by how much I enjoyed this film\", \"positive\"),\n",
        "    (\"The ending left me feeling unsatisfied and confused\", \"negative\"),\n",
        "    (\"This movie exceeded my expectations\", \"positive\"),\n",
        "    (\"The performances by the actors were lackluster\", \"negative\")\n",
        "]\n"
      ],
      "metadata": {
        "id": "42lQ5l-sDm0P"
      },
      "execution_count": null,
      "outputs": []
    },
    {
      "cell_type": "code",
      "source": [
        "\n",
        "def preprocess(text):\n",
        "    tokens = nltk.word_tokenize(text)\n",
        "\n",
        "    return {word:True for word in tokens}\n"
      ],
      "metadata": {
        "id": "8pNSMQdJXDq1"
      },
      "execution_count": null,
      "outputs": []
    },
    {
      "cell_type": "code",
      "source": [
        "featuresets = [(preprocess(text),label) for (text,label) in data]"
      ],
      "metadata": {
        "id": "tVH8D8acjv0v"
      },
      "execution_count": null,
      "outputs": []
    },
    {
      "cell_type": "code",
      "source": [
        "train_set, test_set = featuresets[:16], featuresets[16:]"
      ],
      "metadata": {
        "id": "C7j32XO1j3m0"
      },
      "execution_count": null,
      "outputs": []
    },
    {
      "cell_type": "code",
      "source": [
        "classifier = nltk.NaiveBayesClassifier.train(train_set)\n"
      ],
      "metadata": {
        "id": "2WyaDUzNkCZU"
      },
      "execution_count": null,
      "outputs": []
    },
    {
      "cell_type": "code",
      "source": [
        "accuracy =nltk.classify.accuracy(classifier, test_set)\n",
        "print(\"Accuracy:\", accuracy)"
      ],
      "metadata": {
        "colab": {
          "base_uri": "https://localhost:8080/"
        },
        "id": "FSJ23eaFkLyr",
        "outputId": "a09e158d-6053-4be2-9f38-ac6ec304b066"
      },
      "execution_count": null,
      "outputs": [
        {
          "output_type": "stream",
          "name": "stdout",
          "text": [
            "Accuracy: 0.6666666666666666\n"
          ]
        }
      ]
    },
    {
      "cell_type": "code",
      "source": [
        "new_text_features =\"this movie is amazind\"\n",
        "new_text_features = preprocess(new_text_features)\n",
        "predicted_label = classifier.classify(new_text_features)\n",
        "print(\"Predicted label:\", predicted_label)"
      ],
      "metadata": {
        "colab": {
          "base_uri": "https://localhost:8080/"
        },
        "id": "bJvUmIPhkTrN",
        "outputId": "a9deb895-e8f8-4c2b-b05e-9d0070a6a162"
      },
      "execution_count": null,
      "outputs": [
        {
          "output_type": "stream",
          "name": "stdout",
          "text": [
            "Predicted label: positive\n"
          ]
        }
      ]
    },
    {
      "cell_type": "code",
      "source": [
        "\n",
        "\n",
        "import nltk\n",
        "from nltk.tokenize import word_tokenize\n",
        "from nltk.stem import PorterStemmer, WordNetLemmatizer\n",
        "from nltk import pos_tag\n",
        "from nltk.corpus import stopwords\n",
        "import random\n",
        "!pip install nltk\n",
        "nltk.download('punkt')\n",
        "nltk.download('averaged_perceptron_tagger')\n",
        "nltk.download('wordnet')\n",
        "nltk.download('stopwords')\n",
        "\n",
        "# Datos de ejemplo\n",
        "data += [\n",
        "    (\"The visuals in this film are stunning\", \"positive\"),\n",
        "    (\"The characters were so whimsical and fun\", \"positive\"),\n",
        "    (\"The costume design was absolutely brilliant\", \"positive\"),\n",
        "    (\"I was mesmerized by the special effects\", \"positive\"),\n",
        "    (\"The acting was top-notch\", \"positive\"),\n",
        "    (\"The music score was enchanting\", \"positive\"),\n",
        "    (\"The whimsical world was brought to life beautifully\", \"positive\"),\n",
        "    (\"The movie was a visual feast\", \"positive\"),\n",
        "    (\"The film was full of imagination and creativity\", \"positive\"),\n",
        "    (\"The performances by the actors were captivating\", \"positive\"),\n",
        "    (\"The film captured the essence of the book perfectly\", \"positive\"),\n",
        "    (\"The characters were very well developed\", \"positive\"),\n",
        "    (\"The story was engaging and kept my interest\", \"positive\"),\n",
        "    (\"The movie had a magical quality to it\", \"positive\"),\n",
        "    (\"The film was a delightful adventure\", \"positive\"),\n",
        "    (\"The set design was incredibly detailed\", \"positive\"),\n",
        "    (\"The film's atmosphere was enchanting\", \"positive\"),\n",
        "    (\"The narrative was very imaginative\", \"positive\"),\n",
        "    (\"The movie was a joy to watch\", \"positive\"),\n",
        "    (\"The visuals were breathtaking\", \"positive\"),\n",
        "    (\"The plot didn't make sense\", \"negative\"),\n",
        "    (\"I didn't enjoy the plot at all\", \"negative\"),\n",
        "    (\"I found the movie to be too confusing\", \"negative\"),\n",
        "    (\"The movie lacked a coherent storyline\", \"negative\"),\n",
        "    (\"The pacing of the movie was too slow\", \"negative\")\n",
        "]\n",
        "\n",
        "\n",
        "# Preprocesamiento con eliminación de stopwords y lematización\n",
        "def preprocess_with_lemmatization(text):\n",
        "    tokens = word_tokenize(text.lower())\n",
        "    stop_words = set(stopwords.words('english'))\n",
        "    tokens = [word for word in tokens if word not in stop_words and word.isalnum()]\n",
        "    lemmatizer = WordNetLemmatizer()\n",
        "    lemmas = [lemmatizer.lemmatize(word) for word in tokens]\n",
        "    return {word:True for word in lemmas}\n",
        "\n",
        "# Preprocesamiento con stemming\n",
        "def preprocess_with_stemming(text):\n",
        "    tokens = word_tokenize(text.lower())\n",
        "    stop_words = set(stopwords.words('english'))\n",
        "    tokens = [word for word in tokens if word not in stop_words and word.isalnum()]\n",
        "    stemmer = PorterStemmer()\n",
        "    stems = [stemmer.stem(word) for word in tokens]\n",
        "    return {word:True for word in stems}\n",
        "\n",
        "# Experimento con diferentes técnicas de preprocesamiento\n",
        "featuresets_lemmatization = [(preprocess_with_lemmatization(text),label) for (text,label) in data]\n",
        "featuresets_stemming = [(preprocess_with_stemming(text),label) for (text,label) in data]\n",
        "\n",
        "train_set_lemmatization, test_set_lemmatization = featuresets_lemmatization[:16], featuresets_lemmatization[16:]\n",
        "train_set_stemming, test_set_stemming = featuresets_stemming[:16], featuresets_stemming[16:]\n",
        "\n",
        "classifier_lemmatization = nltk.NaiveBayesClassifier.train(train_set_lemmatization)\n",
        "classifier_stemming = nltk.NaiveBayesClassifier.train(train_set_stemming)\n",
        "\n",
        "accuracy_lemmatization = nltk.classify.accuracy(classifier_lemmatization, test_set_lemmatization)\n",
        "accuracy_stemming = nltk.classify.accuracy(classifier_stemming, test_set_stemming)\n",
        "\n",
        "print(\"Accuracy with lemmatization:\", accuracy_lemmatization)\n",
        "print(\"Accuracy with stemming:\", accuracy_stemming)\n",
        "\n",
        "# Ejemplo de clasificación con nuevo texto\n",
        "new_text =\"this movie is amazind\"\n",
        "new_text_features_lemmatization = preprocess_with_lemmatization(new_text)\n",
        "new_text_features_stemming = preprocess_with_stemming(new_text)\n",
        "\n",
        "predicted_label_lemmatization = classifier_lemmatization.classify(new_text_features_lemmatization)\n",
        "predicted_label_stemming = classifier_stemming.classify(new_text_features_stemming)\n",
        "\n",
        "print(\"Predicted label with lemmatization:\", predicted_label_lemmatization)\n",
        "print(\"Predicted label with stemming:\", predicted_label_stemming)\n"
      ],
      "metadata": {
        "colab": {
          "base_uri": "https://localhost:8080/"
        },
        "id": "9LAGFtK-lpA0",
        "outputId": "353a1ba0-2c41-4ce6-f4c2-613ad1cf8b0c"
      },
      "execution_count": null,
      "outputs": [
        {
          "output_type": "stream",
          "name": "stdout",
          "text": [
            "Requirement already satisfied: nltk in /usr/local/lib/python3.10/dist-packages (3.8.1)\n",
            "Requirement already satisfied: click in /usr/local/lib/python3.10/dist-packages (from nltk) (8.1.7)\n",
            "Requirement already satisfied: joblib in /usr/local/lib/python3.10/dist-packages (from nltk) (1.4.2)\n",
            "Requirement already satisfied: regex>=2021.8.3 in /usr/local/lib/python3.10/dist-packages (from nltk) (2024.5.15)\n",
            "Requirement already satisfied: tqdm in /usr/local/lib/python3.10/dist-packages (from nltk) (4.66.4)\n"
          ]
        },
        {
          "output_type": "stream",
          "name": "stderr",
          "text": [
            "[nltk_data] Downloading package punkt to /root/nltk_data...\n",
            "[nltk_data]   Package punkt is already up-to-date!\n",
            "[nltk_data] Downloading package averaged_perceptron_tagger to\n",
            "[nltk_data]     /root/nltk_data...\n",
            "[nltk_data]   Package averaged_perceptron_tagger is already up-to-\n",
            "[nltk_data]       date!\n",
            "[nltk_data] Downloading package wordnet to /root/nltk_data...\n",
            "[nltk_data] Downloading package stopwords to /root/nltk_data...\n",
            "[nltk_data]   Unzipping corpora/stopwords.zip.\n"
          ]
        },
        {
          "output_type": "stream",
          "name": "stdout",
          "text": [
            "Accuracy with lemmatization: 0.7419354838709677\n",
            "Accuracy with stemming: 0.6774193548387096\n",
            "Predicted label with lemmatization: positive\n",
            "Predicted label with stemming: positive\n"
          ]
        }
      ]
    },
    {
      "cell_type": "code",
      "source": [
        "\n",
        "\n",
        "import nltk\n",
        "from nltk.tokenize import word_tokenize\n",
        "from nltk.stem import PorterStemmer, WordNetLemmatizer\n",
        "from nltk.corpus import stopwords\n",
        "from sklearn.tree import DecisionTreeClassifier\n",
        "from sklearn.feature_extraction.text import TfidfVectorizer\n",
        "from sklearn.pipeline import Pipeline\n",
        "from sklearn.model_selection import train_test_split\n",
        "\n",
        "# Datos de ejemplo\n",
        "data = [\n",
        "    (\"I love this movie\", \"positive\"),\n",
        "    (\"This movie is terrible\", \"negative\"),\n",
        "    (\"This movie is great\", \"positive\"),\n",
        "    (\"I dislike this movie\", \"negative\"),\n",
        "    (\"This film is amazing\", \"positive\"),\n",
        "    (\"I can't stand watching this movie\", \"negative\"),\n",
        "    (\"The acting in this movie is phenomenal\", \"positive\"),\n",
        "    (\"I regret wasting my time on this film\", \"negative\"),\n",
        "    (\"I thoroughly enjoyed this movie\", \"positive\"),\n",
        "    (\"This movie lacks depth and substance\", \"negative\"),\n",
        "    (\"The plot of this movie was captivating\", \"positive\"),\n",
        "    (\"I found the characters in this film to be very engaging\", \"positive\"),\n",
        "    (\"The special effects in this movie were impressive\", \"positive\"),\n",
        "    (\"The storyline was predictable and unoriginal\", \"negative\"),\n",
        "    (\"I was disappointed by the lack of character development\", \"negative\"),\n",
        "    (\"The cinematography in this film was stunning\", \"positive\"),\n",
        "    (\"The dialogue felt forced and unnatural\", \"negative\"),\n",
        "    (\"The pacing of the movie was too slow for my liking\", \"negative\"),\n",
        "    (\"I was pleasantly surprised by how much I enjoyed this film\", \"positive\"),\n",
        "    (\"The ending left me feeling unsatisfied and confused\", \"negative\"),\n",
        "    (\"This movie exceeded my expectations\", \"positive\"),\n",
        "    (\"The performances by the actors were lackluster\", \"negative\"),\n",
        "    (\"The visuals in this film are stunning\", \"positive\"),\n",
        "    (\"I didn't enjoy the plot at all\", \"negative\"),\n",
        "    (\"The characters were so whimsical and fun\", \"positive\"),\n",
        "    (\"I found the movie to be too confusing\", \"negative\"),\n",
        "    (\"The costume design was absolutely brilliant\", \"positive\"),\n",
        "    (\"The movie lacked a coherent storyline\", \"negative\"),\n",
        "    (\"I was mesmerized by the special effects\", \"positive\"),\n",
        "    (\"The pacing of the movie was too slow\", \"negative\"),\n",
        "    (\"The acting was top-notch\", \"positive\"),\n",
        "    (\"I couldn't relate to any of the characters\", \"negative\"),\n",
        "    (\"The music score was enchanting\", \"positive\"),\n",
        "    (\"The film felt too long and drawn out\", \"negative\"),\n",
        "    (\"The whimsical world was brought to life beautifully\", \"positive\"),\n",
        "    (\"I didn't like the way the story was told\", \"negative\"),\n",
        "    (\"The movie was a visual feast\", \"positive\"),\n",
        "    (\"The dialogue was awkward and stilted\", \"negative\"),\n",
        "    (\"The film was full of imagination and creativity\", \"positive\"),\n",
        "    (\"The plot was very predictable\", \"negative\"),\n",
        "    (\"The performances by the actors were captivating\", \"positive\"),\n",
        "    (\"I found the movie to be quite boring\", \"negative\"),\n",
        "    (\"The visuals were breathtaking\", \"positive\"),\n",
        "    (\"The plot didn't make sense\", \"negative\"),\n",
        "    (\"The film was a delightful adventure\", \"positive\"),\n",
        "    (\"The characters were very well developed\", \"positive\"),\n",
        "    (\"The storyline was disjointed\", \"negative\"),\n",
        "    (\"The film's atmosphere was enchanting\", \"positive\"),\n",
        "    (\"The set design was incredibly detailed\", \"positive\"),\n",
        "    (\"The narrative was very imaginative\", \"positive\"),\n",
        "    (\"The film was full of charm and whimsy\", \"positive\"),\n",
        "    (\"The movie was a joy to watch\", \"positive\"),\n",
        "    (\"The movie had a magical quality to it\", \"positive\"),\n",
        "    (\"The characters were one-dimensional\", \"negative\"),\n",
        "    (\"The dialogue was poorly written\", \"negative\"),\n",
        "    (\"The movie was a fantastic escape\", \"positive\"),\n",
        "    (\"The visuals were overwhelming and chaotic\", \"negative\"),\n",
        "    (\"The story was engaging and kept my interest\", \"positive\"),\n",
        "    (\"The actors' performances were mesmerizing\", \"positive\"),\n",
        "    (\"The plot was hard to follow\", \"negative\"),\n",
        "    (\"The film was a visual masterpiece\", \"positive\"),\n",
        "    (\"The storyline lacked depth\", \"negative\"),\n",
        "(\"The costumes were stunning and creative\", \"positive\"),\n",
        "    (\"The movie's fantasy elements were captivating\", \"positive\"),\n",
        "    (\"I loved the whimsical nature of the film\", \"positive\"),\n",
        "    (\"The special effects were mind-blowing\", \"positive\"),\n",
        "    (\"The film's direction was brilliant\", \"positive\"),\n",
        "    (\"The narrative was enchanting\", \"positive\"),\n",
        "    (\"The film was visually arresting\", \"positive\"),\n",
        "    (\"I was completely absorbed by the storyline\", \"positive\"),\n",
        "    (\"The movie's creativity was inspiring\", \"positive\"),\n",
        "    (\"The actors delivered outstanding performances\", \"positive\"),\n",
        "    (\"The world-building in the film was phenomenal\", \"positive\"),\n",
        "    (\"The film's visual style was unique and beautiful\", \"positive\"),\n",
        "    (\"I was impressed by the film's originality\", \"positive\"),\n",
        "    (\"The film captured my imagination\", \"positive\"),\n",
        "    (\"The movie was a wonderful escape from reality\", \"positive\"),\n",
        "    (\"I enjoyed every minute of this film\", \"positive\"),\n",
        "    (\"The film was a feast for the eyes\", \"positive\"),\n",
        "    (\"The movie's atmosphere was magical\", \"positive\"),\n",
        "    (\"I was delighted by the film's creativity\", \"positive\"),\n",
        "    (\"The film's storytelling was masterful\", \"positive\"),\n",
        "    (\"The movie's charm was irresistible\", \"positive\"),\n",
        "    (\"The film was a visual delight\", \"positive\"),\n",
        "    (\"I was captivated by the film's artistry\", \"positive\"),\n",
        "    (\"The movie's magic was palpable\", \"positive\"),\n",
        "    (\"I was thoroughly entertained by this film\", \"positive\"),\n",
        "    (\"The film's visuals were enchanting\", \"positive\"),\n",
        "    (\"The story was beautifully told\", \"positive\"),\n",
        "    (\"The movie was a breathtaking experience\", \"positive\"),\n",
        "    (\"I was spellbound by the film's visuals\", \"positive\"),\n",
        "    (\"The film's creativity was boundless\", \"positive\"),\n",
        "    (\"The movie was a joy from start to finish\", \"positive\"),\n",
        "    (\"The film's whimsy was delightful\", \"positive\"),\n",
        "    (\"I loved the film's artistic direction\", \"positive\"),\n",
        "    (\"The movie was a visual triumph\", \"positive\"),\n",
        "    (\"The film's plot was captivating\", \"positive\"),\n",
        "    (\"I was enchanted by the film's world\", \"positive\"),\n",
        "    (\"The movie was a magical experience\", \"positive\"),\n",
        "    (\"The film's imagination was extraordinary\", \"positive\"),\n",
        "    (\"I was awed by the film's visual effects\", \"positive\"),\n",
        "    (\"The movie's beauty was mesmerizing\", \"positive\"),\n",
        "    (\"The film's storytelling was superb\", \"positive\"),\n",
        "    (\"I was transported by the film's magic\", \"positive\"),\n",
        "    (\"The movie was a visual extravaganza\", \"positive\"),\n",
        "    (\"The film's characters were endearing\", \"positive\"),\n",
        "    (\"I was charmed by the film's whimsy\", \"positive\"),\n",
        "    (\"The movie's enchantment was undeniable\", \"positive\"),\n",
        "    (\"I was captivated by the film's beauty\", \"positive\"),\n",
        "    (\"The film's visuals were a masterpiece\", \"positive\"),\n",
        "    (\"The movie's charm was enchanting\", \"positive\"),\n",
        "    (\"I was delighted by the film's magic\", \"positive\"),\n",
        "    (\"The film's storytelling was enchanting\", \"positive\"),\n",
        "    (\"I was enchanted by the film's artistry\", \"positive\"),\n",
        "    (\"The movie's visuals were breathtaking\", \"positive\"),\n",
        "    (\"The film's plot was engrossing\", \"positive\"),\n",
        "    (\"I was fascinated by the film's creativity\", \"positive\"),\n",
        "    (\"The movie was a visual spectacle\", \"positive\"),\n",
        "    (\"The film's characters were charming\", \"positive\"),\n",
        "    (\"I was enchanted by the film's visuals\", \"positive\"),\n",
        "    (\"The movie's magic was captivating\", \"positive\"),\n",
        "    (\"The film's storytelling was imaginative\", \"positive\"),\n",
        "    (\"I was awed by the film's artistry\", \"positive\"),\n",
        "    (\"The movie's beauty was enchanting\", \"positive\"),\n",
        "    (\"The film's imagination was captivating\", \"positive\"),\n",
        "    (\"I was charmed by the film's magic\", \"positive\"),\n",
        "    (\"The movie's whimsy was captivating\", \"positive\"),\n",
        "    (\"The film's creativity was enchanting\", \"positive\"),\n",
        "    (\"I was enthralled by the film's visuals\", \"positive\"),\n",
        "    (\"The movie's enchantment was magical\", \"positive\"),\n",
        "    (\"The film's storytelling was captivating\", \"positive\"),\n",
        "    (\"I was enchanted by the film's charm\", \"positive\"),\n",
        "    (\"The movie's visuals were spellbinding\", \"positive\"),\n",
        "    (\"The film's imagination was mesmerizing\", \"positive\"),\n",
        "    (\"I was charmed by the film's visuals\", \"positive\"),\n",
        "    (\"The movie's whimsy was spellbinding\", \"positive\"),\n",
        "    (\"The film's creativity was spellbinding\", \"positive\"),\n",
        "    (\"I was enchanted by the film's magic\", \"positive\"),\n",
        "    (\"The movie's beauty was spellbinding\", \"positive\"),\n",
        "    (\"The film's storytelling was spellbinding\", \"positive\"),\n",
        "    (\"I was fascinated by the film's visuals\", \"positive\"),\n",
        "    (\"The movie's enchantment was spellbinding\", \"positive\"),\n",
        "    (\"The film's imagination was spellbinding\", \"positive\"),\n",
        "    (\"I was charmed by the film's magic\", \"positive\"),\n",
        "    (\"The movie's whimsy was spellbinding\", \"positive\"),\n",
        "    (\"The film's creativity was spellbinding\", \"positive\"),\n",
        "    (\"I was enthralled by the film's visuals\", \"positive\"),\n",
        "    (\"The movie's beauty was spellbinding\", \"positive\"),\n",
        "    (\"The film's storytelling was spellbinding\", \"positive\"),\n",
        "    (\"I was enchanted by the film's visuals\", \"positive\"),\n",
        "    (\"The movie's magic was spellbinding\", \"positive\"),\n",
        "    (\"The film's storytelling was spellbinding\", \"positive\")]\n",
        "\n",
        "\n",
        "\n",
        "# Separar textos y etiquetas\n",
        "texts = [text for text, label in data]\n",
        "labels = [label for text, label in data]\n",
        "\n",
        "# Dividir datos en conjuntos de entrenamiento y prueba\n",
        "train_texts, test_texts, train_labels, test_labels = train_test_split(\n",
        "    texts, labels, test_size=0.2, random_state=42\n",
        ")\n",
        "\n",
        "# Crear un pipeline con TfidfVectorizer y DecisionTreeClassifier\n",
        "text_clf = Pipeline([\n",
        "    ('tfidf', TfidfVectorizer()),\n",
        "    ('clf', DecisionTreeClassifier())\n",
        "])\n",
        "\n",
        "# Entrenar el modelo\n",
        "text_clf.fit(train_texts, train_labels)\n",
        "\n",
        "# Evaluar el modelo\n",
        "accuracy = text_clf.score(test_texts, test_labels)\n",
        "print(\"Accuracy:\", accuracy)\n",
        "\n",
        "# Ejemplo de clasificación con nuevo texto\n",
        "new_text = \"this movie is amazing\"\n",
        "predicted_label = text_clf.predict([new_text])[0]\n",
        "print(\"Predicted label:\", predicted_label)\n"
      ],
      "metadata": {
        "colab": {
          "base_uri": "https://localhost:8080/"
        },
        "id": "Ne6fTBKKmhCE",
        "outputId": "ee414842-068c-41b9-f1e4-78c1fd38e813"
      },
      "execution_count": null,
      "outputs": [
        {
          "output_type": "stream",
          "name": "stdout",
          "text": [
            "Accuracy: 0.9032258064516129\n",
            "Predicted label: positive\n"
          ]
        }
      ]
    },
    {
      "cell_type": "code",
      "source": [
        "\n",
        "import random\n",
        "from nltk.stem import PorterStemmer, WordNetLemmatizer\n",
        "from nltk.corpus import stopwords\n",
        "from sklearn.tree import DecisionTreeClassifier\n",
        "from sklearn.feature_extraction.text import TfidfVectorizer\n",
        "from sklearn.pipeline import Pipeline\n",
        "from sklearn.model_selection import train_test_split\n",
        "import matplotlib.pyplot as plt\n",
        "\n",
        "# Descargar recursos de NLTK si es necesario\n",
        "nltk.download('punkt')\n",
        "nltk.download('averaged_perceptron_tagger')\n",
        "nltk.download('wordnet')\n",
        "nltk.download('stopwords')\n",
        "\n",
        "# Datos de ejemplo\n",
        "data = [\n",
        "    (\"I love this movie\", \"positive\"),\n",
        "    (\"This movie is terrible\", \"negative\"),\n",
        "    (\"This movie is great\", \"positive\"),\n",
        "    (\"I dislike this movie\", \"negative\"),\n",
        "    (\"This film is amazing\", \"positive\"),\n",
        "    (\"I can't stand watching this movie\", \"negative\"),\n",
        "    (\"The acting in this movie is phenomenal\", \"positive\"),\n",
        "    (\"I regret wasting my time on this film\", \"negative\"),\n",
        "    (\"I thoroughly enjoyed this movie\", \"positive\"),\n",
        "    (\"This movie lacks depth and substance\", \"negative\"),\n",
        "    (\"The plot of this movie was captivating\", \"positive\"),\n",
        "    (\"I found the characters in this film to be very engaging\", \"positive\"),\n",
        "    (\"The special effects in this movie were impressive\", \"positive\"),\n",
        "    (\"The storyline was predictable and unoriginal\", \"negative\"),\n",
        "    (\"I was disappointed by the lack of character development\", \"negative\"),\n",
        "    (\"The cinematography in this film was stunning\", \"positive\"),\n",
        "    (\"The dialogue felt forced and unnatural\", \"negative\"),\n",
        "    (\"The pacing of the movie was too slow for my liking\", \"negative\"),\n",
        "    (\"I was pleasantly surprised by how much I enjoyed this film\", \"positive\"),\n",
        "    (\"The ending left me feeling unsatisfied and confused\", \"negative\"),\n",
        "    (\"This movie exceeded my expectations\", \"positive\"),\n",
        "    (\"The performances by the actors were lackluster\", \"negative\"),\n",
        "    (\"The visuals in this film are stunning\", \"positive\"),\n",
        "    (\"I didn't enjoy the plot at all\", \"negative\"),\n",
        "    (\"The characters were so whimsical and fun\", \"positive\"),\n",
        "    (\"I found the movie to be too confusing\", \"negative\"),\n",
        "    (\"The costume design was absolutely brilliant\", \"positive\"),\n",
        "    (\"The movie lacked a coherent storyline\", \"negative\"),\n",
        "    (\"I was mesmerized by the special effects\", \"positive\"),\n",
        "    (\"The pacing of the movie was too slow\", \"negative\"),\n",
        "    (\"The acting was top-notch\", \"positive\"),\n",
        "    (\"I couldn't relate to any of the characters\", \"negative\"),\n",
        "    (\"The music score was enchanting\", \"positive\"),\n",
        "    (\"The film felt too long and drawn out\", \"negative\"),\n",
        "    (\"The whimsical world was brought to life beautifully\", \"positive\"),\n",
        "    (\"I didn't like the way the story was told\", \"negative\"),\n",
        "    (\"The movie was a visual feast\", \"positive\"),\n",
        "    (\"The dialogue was awkward and stilted\", \"negative\"),\n",
        "    (\"The film was full of imagination and creativity\", \"positive\"),\n",
        "    (\"The plot was very predictable\", \"negative\"),\n",
        "    (\"The performances by the actors were captivating\", \"positive\"),\n",
        "    (\"I found the movie to be quite boring\", \"negative\"),\n",
        "    (\"The visuals were breathtaking\", \"positive\"),\n",
        "    (\"The plot didn't make sense\", \"negative\"),\n",
        "    (\"The film was a delightful adventure\", \"positive\"),\n",
        "    (\"The characters were very well developed\", \"positive\"),\n",
        "    (\"The storyline was disjointed\", \"negative\"),\n",
        "    (\"The film's atmosphere was enchanting\", \"positive\"),\n",
        "    (\"The set design was incredibly detailed\", \"positive\"),\n",
        "    (\"The narrative was very imaginative\", \"positive\"),\n",
        "    (\"The film was full of charm and whimsy\", \"positive\"),\n",
        "    (\"The movie was a joy to watch\", \"positive\"),\n",
        "    (\"The movie had a magical quality to it\", \"positive\"),\n",
        "    (\"The characters were one-dimensional\", \"negative\"),\n",
        "    (\"The dialogue was poorly written\", \"negative\"),\n",
        "    (\"The movie was a fantastic escape\", \"positive\"),\n",
        "    (\"The visuals were overwhelming and chaotic\", \"negative\"),\n",
        "    (\"The story was engaging and kept my interest\", \"positive\"),\n",
        "    (\"The actors' performances were mesmerizing\", \"positive\"),\n",
        "    (\"The plot was hard to follow\", \"negative\"),\n",
        "    (\"The film was a visual masterpiece\", \"positive\"),\n",
        "    (\"The storyline lacked depth\", \"negative\"),\n",
        "(\"The costumes were stunning and creative\", \"positive\"),\n",
        "    (\"The movie's fantasy elements were captivating\", \"positive\"),\n",
        "    (\"I loved the whimsical nature of the film\", \"positive\"),\n",
        "    (\"The special effects were mind-blowing\", \"positive\"),\n",
        "    (\"The film's direction was brilliant\", \"positive\"),\n",
        "    (\"The narrative was enchanting\", \"positive\"),\n",
        "    (\"The film was visually arresting\", \"positive\"),\n",
        "    (\"I was completely absorbed by the storyline\", \"positive\"),\n",
        "    (\"The movie's creativity was inspiring\", \"positive\"),\n",
        "    (\"The actors delivered outstanding performances\", \"positive\"),\n",
        "    (\"The world-building in the film was phenomenal\", \"positive\"),\n",
        "    (\"The film's visual style was unique and beautiful\", \"positive\"),\n",
        "    (\"I was impressed by the film's originality\", \"positive\"),\n",
        "    (\"The film captured my imagination\", \"positive\"),\n",
        "    (\"The movie was a wonderful escape from reality\", \"positive\"),\n",
        "    (\"I enjoyed every minute of this film\", \"positive\"),\n",
        "    (\"The film was a feast for the eyes\", \"positive\"),\n",
        "    (\"The movie's atmosphere was magical\", \"positive\"),\n",
        "    (\"I was delighted by the film's creativity\", \"positive\"),\n",
        "    (\"The film's storytelling was masterful\", \"positive\"),\n",
        "    (\"The movie's charm was irresistible\", \"positive\"),\n",
        "    (\"The film was a visual delight\", \"positive\"),\n",
        "    (\"I was captivated by the film's artistry\", \"positive\"),\n",
        "    (\"The movie's magic was palpable\", \"positive\"),\n",
        "    (\"I was thoroughly entertained by this film\", \"positive\"),\n",
        "    (\"The film's visuals were enchanting\", \"positive\"),\n",
        "    (\"The story was beautifully told\", \"positive\"),\n",
        "    (\"The movie was a breathtaking experience\", \"positive\"),\n",
        "    (\"I was spellbound by the film's visuals\", \"positive\"),\n",
        "    (\"The film's creativity was boundless\", \"positive\"),\n",
        "    (\"The movie was a joy from start to finish\", \"positive\"),\n",
        "    (\"The film's whimsy was delightful\", \"positive\"),\n",
        "    (\"I loved the film's artistic direction\", \"positive\"),\n",
        "    (\"The movie was a visual triumph\", \"positive\"),\n",
        "    (\"The film's plot was captivating\", \"positive\"),\n",
        "    (\"I was enchanted by the film's world\", \"positive\"),\n",
        "    (\"The movie was a magical experience\", \"positive\"),\n",
        "    (\"The film's imagination was extraordinary\", \"positive\"),\n",
        "    (\"I was awed by the film's visual effects\", \"positive\"),\n",
        "    (\"The movie's beauty was mesmerizing\", \"positive\"),\n",
        "    (\"The film's storytelling was superb\", \"positive\"),\n",
        "    (\"I was transported by the film's magic\", \"positive\"),\n",
        "    (\"The movie was a visual extravaganza\", \"positive\"),\n",
        "    (\"The film's characters were endearing\", \"positive\"),\n",
        "    (\"I was charmed by the film's whimsy\", \"positive\"),\n",
        "    (\"The movie's enchantment was undeniable\", \"positive\"),\n",
        "    (\"I was captivated by the film's beauty\", \"positive\"),\n",
        "    (\"The film's visuals were a masterpiece\", \"positive\"),\n",
        "    (\"The movie's charm was enchanting\", \"positive\"),\n",
        "    (\"I was delighted by the film's magic\", \"positive\"),\n",
        "    (\"The film's storytelling was enchanting\", \"positive\"),\n",
        "    (\"I was enchanted by the film's artistry\", \"positive\"),\n",
        "    (\"The movie's visuals were breathtaking\", \"positive\"),\n",
        "    (\"The film's plot was engrossing\", \"positive\"),\n",
        "    (\"I was fascinated by the film's creativity\", \"positive\"),\n",
        "    (\"The movie was a visual spectacle\", \"positive\"),\n",
        "    (\"The film's characters were charming\", \"positive\"),\n",
        "    (\"I was enchanted by the film's visuals\", \"positive\"),\n",
        "    (\"The movie's magic was captivating\", \"positive\"),\n",
        "    (\"The film's storytelling was imaginative\", \"positive\"),\n",
        "    (\"I was awed by the film's artistry\", \"positive\"),\n",
        "    (\"The movie's beauty was enchanting\", \"positive\"),\n",
        "    (\"The film's imagination was captivating\", \"positive\"),\n",
        "    (\"I was charmed by the film's magic\", \"positive\"),\n",
        "    (\"The movie's whimsy was captivating\", \"positive\"),\n",
        "    (\"The film's creativity was enchanting\", \"positive\"),\n",
        "    (\"I was enthralled by the film's visuals\", \"positive\"),\n",
        "    (\"The movie's enchantment was magical\", \"positive\"),\n",
        "    (\"The film's storytelling was captivating\", \"positive\"),\n",
        "    (\"I was enchanted by the film's charm\", \"positive\"),\n",
        "    (\"The movie's visuals were spellbinding\", \"positive\"),\n",
        "    (\"The film's imagination was mesmerizing\", \"positive\"),\n",
        "    (\"I was charmed by the film's visuals\", \"positive\"),\n",
        "    (\"The movie's whimsy was spellbinding\", \"positive\"),\n",
        "    (\"The film's creativity was spellbinding\", \"positive\"),\n",
        "    (\"I was enchanted by the film's magic\", \"positive\"),\n",
        "    (\"The movie's beauty was spellbinding\", \"positive\"),\n",
        "    (\"The film's storytelling was spellbinding\", \"positive\"),\n",
        "    (\"I was fascinated by the film's visuals\", \"positive\"),\n",
        "    (\"The movie's enchantment was spellbinding\", \"positive\"),\n",
        "    (\"The film's imagination was spellbinding\", \"positive\"),\n",
        "    (\"I was charmed by the film's magic\", \"positive\"),\n",
        "    (\"The movie's whimsy was spellbinding\", \"positive\"),\n",
        "    (\"The film's creativity was spellbinding\", \"positive\"),\n",
        "    (\"I was enthralled by the film's visuals\", \"positive\"),\n",
        "    (\"The movie's beauty was spellbinding\", \"positive\"),\n",
        "    (\"The film's storytelling was spellbinding\", \"positive\"),\n",
        "    (\"I was enchanted by the film's visuals\", \"positive\"),\n",
        "    (\"The movie's magic was spellbinding\", \"positive\"),\n",
        "    (\"The film's storytelling was spellbinding\", \"positive\")]\n",
        "\n",
        "\n",
        "\n",
        "\n",
        "\n",
        "\n",
        "# Contar comentarios positivos y negativos\n",
        "positive_count = len([label for text, label in data if label == \"positive\"])\n",
        "negative_count = len([label for text, label in data if label == \"negative\"])\n",
        "\n",
        "# Graficar la distribución de comentarios\n",
        "labels = ['Positive', 'Negative']\n",
        "sizes = [positive_count, negative_count]\n",
        "colors = ['lightgreen', 'lightcoral']\n",
        "\n",
        "plt.pie(sizes, labels=labels, colors=colors, autopct='%1.1f%%', startangle=90)\n",
        "plt.axis('equal')\n",
        "plt.title('Distribution of Positive and Negative Reviews')\n",
        "plt.show()\n",
        "\n",
        "# Separar textos y etiquetas\n",
        "texts = [text for text, label in data]\n",
        "labels = [label for text, label in data]\n",
        "\n",
        "# Dividir datos en conjuntos de entrenamiento y prueba\n",
        "train_texts, test_texts, train_labels, test_labels = train_test_split(\n",
        "    texts, labels, test_size=0.2, random_state=42\n",
        ")\n",
        "\n",
        "# Crear un pipeline con TfidfVectorizer y DecisionTreeClassifier\n",
        "text_clf = Pipeline([\n",
        "    ('tfidf', TfidfVectorizer()),\n",
        "    ('clf', DecisionTreeClassifier())\n",
        "])\n",
        "\n",
        "# Entrenar el modelo\n",
        "text_clf.fit(train_texts, train_labels)\n",
        "\n",
        "# Evaluar el modelo\n",
        "accuracy = text_clf.score(test_texts, test_labels)\n",
        "print(\"Accuracy:\", accuracy)\n",
        "\n",
        "# Ejemplo de clasificación con nuevo texto\n",
        "new_text = \"this movie is amazing\"\n",
        "predicted_label = text_clf.predict([new_text])[0]\n",
        "print(\"Predicted label:\", predicted_label)\n"
      ],
      "metadata": {
        "colab": {
          "base_uri": "https://localhost:8080/",
          "height": 636
        },
        "id": "3ZAtLYdJnPbN",
        "outputId": "9436736e-5548-4500-f389-1c6815bb08db"
      },
      "execution_count": null,
      "outputs": [
        {
          "output_type": "stream",
          "name": "stderr",
          "text": [
            "[nltk_data] Downloading package punkt to /root/nltk_data...\n",
            "[nltk_data]   Package punkt is already up-to-date!\n",
            "[nltk_data] Downloading package averaged_perceptron_tagger to\n",
            "[nltk_data]     /root/nltk_data...\n",
            "[nltk_data]   Package averaged_perceptron_tagger is already up-to-\n",
            "[nltk_data]       date!\n",
            "[nltk_data] Downloading package wordnet to /root/nltk_data...\n",
            "[nltk_data]   Package wordnet is already up-to-date!\n",
            "[nltk_data] Downloading package stopwords to /root/nltk_data...\n",
            "[nltk_data]   Package stopwords is already up-to-date!\n"
          ]
        },
        {
          "output_type": "display_data",
          "data": {
            "text/plain": [
              "<Figure size 640x480 with 1 Axes>"
            ],
            "image/png": "[encoded data removed]"
          },
          "metadata": {}
        },
        {
          "output_type": "stream",
          "name": "stdout",
          "text": [
            "Accuracy: 0.9354838709677419\n",
            "Predicted label: positive\n"
          ]
        }
      ]
    },
    {
      "cell_type": "code",
      "source": [
        "\n",
        "\n",
        "import nltk\n",
        "from nltk.tokenize import word_tokenize\n",
        "from nltk.stem import PorterStemmer\n",
        "from nltk import pos_tag\n",
        "import random\n",
        "from nltk.stem import PorterStemmer, WordNetLemmatizer\n",
        "from nltk.corpus import stopwords\n",
        "from sklearn.tree import DecisionTreeClassifier\n",
        "from sklearn.feature_extraction.text import TfidfVectorizer\n",
        "from sklearn.pipeline import Pipeline\n",
        "from sklearn.model_selection import train_test_split\n",
        "import matplotlib.pyplot as plt\n",
        "from sklearn.metrics import confusion_matrix, ConfusionMatrixDisplay\n",
        "from sklearn.naive_bayes import MultinomialNB\n",
        "from sklearn.linear_model import LogisticRegression\n",
        "import numpy as np\n",
        "\n",
        "# Descargar recursos de NLTK si es necesario\n",
        "nltk.download('punkt')\n",
        "nltk.download('averaged_perceptron_tagger')\n",
        "nltk.download('wordnet')\n",
        "nltk.download('stopwords')\n",
        "\n",
        "# Datos de ejemplo\n",
        "\n",
        "data = [\n",
        "    (\"I love this movie\", \"positive\"),\n",
        "    (\"This movie is terrible\", \"negative\"),\n",
        "    (\"This movie is great\", \"positive\"),\n",
        "    (\"I dislike this movie\", \"negative\"),\n",
        "    (\"This film is amazing\", \"positive\"),\n",
        "    (\"I can't stand watching this movie\", \"negative\"),\n",
        "    (\"The acting in this movie is phenomenal\", \"positive\"),\n",
        "    (\"I regret wasting my time on this film\", \"negative\"),\n",
        "    (\"I thoroughly enjoyed this movie\", \"positive\"),\n",
        "    (\"This movie lacks depth and substance\", \"negative\"),\n",
        "    (\"The plot of this movie was captivating\", \"positive\"),\n",
        "    (\"I found the characters in this film to be very engaging\", \"positive\"),\n",
        "    (\"The special effects in this movie were impressive\", \"positive\"),\n",
        "    (\"The storyline was predictable and unoriginal\", \"negative\"),\n",
        "    (\"I was disappointed by the lack of character development\", \"negative\"),\n",
        "    (\"The cinematography in this film was stunning\", \"positive\"),\n",
        "    (\"The dialogue felt forced and unnatural\", \"negative\"),\n",
        "    (\"The pacing of the movie was too slow for my liking\", \"negative\"),\n",
        "    (\"I was pleasantly surprised by how much I enjoyed this film\", \"positive\"),\n",
        "    (\"The ending left me feeling unsatisfied and confused\", \"negative\"),\n",
        "    (\"This movie exceeded my expectations\", \"positive\"),\n",
        "    (\"The performances by the actors were lackluster\", \"negative\"),\n",
        "    (\"The visuals in this film are stunning\", \"positive\"),\n",
        "    (\"I didn't enjoy the plot at all\", \"negative\"),\n",
        "    (\"The characters were so whimsical and fun\", \"positive\"),\n",
        "    (\"I found the movie to be too confusing\", \"negative\"),\n",
        "    (\"The costume design was absolutely brilliant\", \"positive\"),\n",
        "    (\"The movie lacked a coherent storyline\", \"negative\"),\n",
        "    (\"I was mesmerized by the special effects\", \"positive\"),\n",
        "    (\"The pacing of the movie was too slow\", \"negative\"),\n",
        "    (\"The acting was top-notch\", \"positive\"),\n",
        "    (\"I couldn't relate to any of the characters\", \"negative\"),\n",
        "    (\"The music score was enchanting\", \"positive\"),\n",
        "    (\"The film felt too long and drawn out\", \"negative\"),\n",
        "    (\"The whimsical world was brought to life beautifully\", \"positive\"),\n",
        "    (\"I didn't like the way the story was told\", \"negative\"),\n",
        "    (\"The movie was a visual feast\", \"positive\"),\n",
        "    (\"The dialogue was awkward and stilted\", \"negative\"),\n",
        "    (\"The film was full of imagination and creativity\", \"positive\"),\n",
        "    (\"The plot was very predictable\", \"negative\"),\n",
        "    (\"The performances by the actors were captivating\", \"positive\"),\n",
        "    (\"I found the movie to be quite boring\", \"negative\"),\n",
        "    (\"The visuals were breathtaking\", \"positive\"),\n",
        "    (\"The plot didn't make sense\", \"negative\"),\n",
        "    (\"The film was a delightful adventure\", \"positive\"),\n",
        "    (\"The characters were very well developed\", \"positive\"),\n",
        "    (\"The storyline was disjointed\", \"negative\"),\n",
        "    (\"The film's atmosphere was enchanting\", \"positive\"),\n",
        "    (\"The set design was incredibly detailed\", \"positive\"),\n",
        "    (\"The narrative was very imaginative\", \"positive\"),\n",
        "    (\"The film was full of charm and whimsy\", \"positive\"),\n",
        "    (\"The movie was a joy to watch\", \"positive\"),\n",
        "    (\"The movie had a magical quality to it\", \"positive\"),\n",
        "    (\"The characters were one-dimensional\", \"negative\"),\n",
        "    (\"The dialogue was poorly written\", \"negative\"),\n",
        "    (\"The movie was a fantastic escape\", \"positive\"),\n",
        "    (\"The visuals were overwhelming and chaotic\", \"negative\"),\n",
        "    (\"The story was engaging and kept my interest\", \"positive\"),\n",
        "    (\"The actors' performances were mesmerizing\", \"positive\"),\n",
        "    (\"The plot was hard to follow\", \"negative\"),\n",
        "    (\"The film was a visual masterpiece\", \"positive\"),\n",
        "    (\"The storyline lacked depth\", \"negative\"),\n",
        "(\"The costumes were stunning and creative\", \"positive\"),\n",
        "    (\"The movie's fantasy elements were captivating\", \"positive\"),\n",
        "    (\"I loved the whimsical nature of the film\", \"positive\"),\n",
        "    (\"The special effects were mind-blowing\", \"positive\"),\n",
        "    (\"The film's direction was brilliant\", \"positive\"),\n",
        "    (\"The narrative was enchanting\", \"positive\"),\n",
        "    (\"The film was visually arresting\", \"positive\"),\n",
        "    (\"I was completely absorbed by the storyline\", \"positive\"),\n",
        "    (\"The movie's creativity was inspiring\", \"positive\"),\n",
        "    (\"The actors delivered outstanding performances\", \"positive\"),\n",
        "    (\"The world-building in the film was phenomenal\", \"positive\"),\n",
        "    (\"The film's visual style was unique and beautiful\", \"positive\"),\n",
        "    (\"I was impressed by the film's originality\", \"positive\"),\n",
        "    (\"The film captured my imagination\", \"positive\"),\n",
        "    (\"The movie was a wonderful escape from reality\", \"positive\"),\n",
        "    (\"I enjoyed every minute of this film\", \"positive\"),\n",
        "    (\"The film was a feast for the eyes\", \"positive\"),\n",
        "    (\"The movie's atmosphere was magical\", \"positive\"),\n",
        "    (\"I was delighted by the film's creativity\", \"positive\"),\n",
        "    (\"The film's storytelling was masterful\", \"positive\"),\n",
        "    (\"The movie's charm was irresistible\", \"positive\"),\n",
        "    (\"The film was a visual delight\", \"positive\"),\n",
        "    (\"I was captivated by the film's artistry\", \"positive\"),\n",
        "    (\"The movie's magic was palpable\", \"positive\"),\n",
        "    (\"I was thoroughly entertained by this film\", \"positive\"),\n",
        "    (\"The film's visuals were enchanting\", \"positive\"),\n",
        "    (\"The story was beautifully told\", \"positive\"),\n",
        "    (\"The movie was a breathtaking experience\", \"positive\"),\n",
        "    (\"I was spellbound by the film's visuals\", \"positive\"),\n",
        "    (\"The film's creativity was boundless\", \"positive\"),\n",
        "    (\"The movie was a joy from start to finish\", \"positive\"),\n",
        "    (\"The film's whimsy was delightful\", \"positive\"),\n",
        "    (\"I loved the film's artistic direction\", \"positive\"),\n",
        "    (\"The movie was a visual triumph\", \"positive\"),\n",
        "    (\"The film's plot was captivating\", \"positive\"),\n",
        "    (\"I was enchanted by the film's world\", \"positive\"),\n",
        "    (\"The movie was a magical experience\", \"positive\"),\n",
        "    (\"The film's imagination was extraordinary\", \"positive\"),\n",
        "    (\"I was awed by the film's visual effects\", \"positive\"),\n",
        "    (\"The movie's beauty was mesmerizing\", \"positive\"),\n",
        "    (\"The film's storytelling was superb\", \"positive\"),\n",
        "    (\"I was transported by the film's magic\", \"positive\"),\n",
        "    (\"The movie was a visual extravaganza\", \"positive\"),\n",
        "    (\"The film's characters were endearing\", \"positive\"),\n",
        "    (\"I was charmed by the film's whimsy\", \"positive\"),\n",
        "    (\"The movie's enchantment was undeniable\", \"positive\"),\n",
        "    (\"I was captivated by the film's beauty\", \"positive\"),\n",
        "    (\"The film's visuals were a masterpiece\", \"positive\"),\n",
        "    (\"The movie's charm was enchanting\", \"positive\"),\n",
        "    (\"I was delighted by the film's magic\", \"positive\"),\n",
        "    (\"The film's storytelling was enchanting\", \"positive\"),\n",
        "    (\"I was enchanted by the film's artistry\", \"positive\"),\n",
        "    (\"The movie's visuals were breathtaking\", \"positive\"),\n",
        "    (\"The film's plot was engrossing\", \"positive\"),\n",
        "    (\"I was fascinated by the film's creativity\", \"positive\"),\n",
        "    (\"The movie was a visual spectacle\", \"positive\"),\n",
        "    (\"The film's characters were charming\", \"positive\"),\n",
        "    (\"I was enchanted by the film's visuals\", \"positive\"),\n",
        "    (\"The movie's magic was captivating\", \"positive\"),\n",
        "    (\"The film's storytelling was imaginative\", \"positive\"),\n",
        "    (\"I was awed by the film's artistry\", \"positive\"),\n",
        "    (\"The movie's beauty was enchanting\", \"positive\"),\n",
        "    (\"The film's imagination was captivating\", \"positive\"),\n",
        "    (\"I was charmed by the film's magic\", \"positive\"),\n",
        "    (\"The movie's whimsy was captivating\", \"positive\"),\n",
        "    (\"The film's creativity was enchanting\", \"positive\"),\n",
        "    (\"I was enthralled by the film's visuals\", \"positive\"),\n",
        "    (\"The movie's enchantment was magical\", \"positive\"),\n",
        "    (\"The film's storytelling was captivating\", \"positive\"),\n",
        "    (\"I was enchanted by the film's charm\", \"positive\"),\n",
        "    (\"The movie's visuals were spellbinding\", \"positive\"),\n",
        "    (\"The film's imagination was mesmerizing\", \"positive\"),\n",
        "    (\"I was charmed by the film's visuals\", \"positive\"),\n",
        "    (\"The movie's whimsy was spellbinding\", \"positive\"),\n",
        "    (\"The film's creativity was spellbinding\", \"positive\"),\n",
        "    (\"I was enchanted by the film's magic\", \"positive\"),\n",
        "    (\"The movie's beauty was spellbinding\", \"positive\"),\n",
        "    (\"The film's storytelling was spellbinding\", \"positive\"),\n",
        "    (\"I was fascinated by the film's visuals\", \"positive\"),\n",
        "    (\"The movie's enchantment was spellbinding\", \"positive\"),\n",
        "    (\"The film's imagination was spellbinding\", \"positive\"),\n",
        "    (\"I was charmed by the film's magic\", \"positive\"),\n",
        "    (\"The movie's whimsy was spellbinding\", \"positive\"),\n",
        "    (\"The film's creativity was spellbinding\", \"positive\"),\n",
        "    (\"I was enthralled by the film's visuals\", \"positive\"),\n",
        "    (\"The movie's beauty was spellbinding\", \"positive\"),\n",
        "    (\"The film's storytelling was spellbinding\", \"positive\"),\n",
        "    (\"I was enchanted by the film's visuals\", \"positive\"),\n",
        "    (\"The movie's magic was spellbinding\", \"positive\"),\n",
        "    (\"The film's storytelling was spellbinding\", \"positive\")]\n",
        "\n",
        "\n",
        "\n",
        "# Separar textos y etiquetas\n",
        "texts = [text for text, label in data]\n",
        "labels = [label for text, label in data]\n",
        "\n",
        "# Dividir datos en conjuntos de entrenamiento y prueba\n",
        "train_texts, test_texts, train_labels, test_labels = train_test_split(\n",
        "    texts, labels, test_size=0.2, random_state=42\n",
        ")\n",
        "\n",
        "# Crear un pipeline con TfidfVectorizer y DecisionTreeClassifier\n",
        "text_clf_tree = Pipeline([\n",
        "    ('tfidf', TfidfVectorizer()),\n",
        "    ('clf', DecisionTreeClassifier())\n",
        "])\n",
        "\n",
        "# Entrenar el modelo de árbol de decisión\n",
        "text_clf_tree.fit(train_texts, train_labels)\n",
        "\n",
        "# Evaluar el modelo de árbol de decisión\n",
        "accuracy_tree = text_clf_tree.score(test_texts, test_labels)\n",
        "print(\"Accuracy (Decision Tree):\", accuracy_tree)\n",
        "\n",
        "# Crear un pipeline con TfidfVectorizer y MultinomialNB (clasificador Naive Bayes)\n",
        "text_clf_nb = Pipeline([\n",
        "    ('tfidf', TfidfVectorizer()),\n",
        "    ('clf', MultinomialNB())\n",
        "])\n",
        "\n",
        "# Entrenar el modelo Naive Bayes\n",
        "text_clf_nb.fit(train_texts, train_labels)\n",
        "\n",
        "# Evaluar el modelo Naive Bayes\n",
        "accuracy_nb = text_clf_nb.score(test_texts, test_labels)\n",
        "print(\"Accuracy (Naive Bayes):\", accuracy_nb)\n",
        "\n",
        "# Crear un pipeline con TfidfVectorizer y LogisticRegression\n",
        "text_clf_lr = Pipeline([\n",
        "    ('tfidf', TfidfVectorizer()),\n",
        "    ('clf', LogisticRegression())\n",
        "])\n",
        "\n",
        "# Entrenar el modelo de regresión logística\n",
        "text_clf_lr.fit(train_texts, train_labels)\n",
        "\n",
        "# Evaluar el modelo de regresión logística\n",
        "accuracy_lr = text_clf_lr.score(test_texts, test_labels)\n",
        "print(\"Accuracy (Logistic Regression):\", accuracy_lr)\n",
        "\n",
        "# Predecir etiquetas para el conjunto de prueba con los tres modelos\n",
        "predicted_labels_tree = text_clf_tree.predict(test_texts)\n",
        "predicted_labels_nb = text_clf_nb.predict(test_texts)\n",
        "predicted_labels_lr = text_clf_lr.predict(test_texts)\n",
        "\n",
        "# Calcular matrices de confusión para los tres modelos\n",
        "cm_tree = confusion_matrix(test_labels, predicted_labels_tree, labels=text_clf_tree.classes_)\n",
        "cm_nb = confusion_matrix(test_labels, predicted_labels_nb, labels=text_clf_nb.classes_)\n",
        "cm_lr = confusion_matrix(test_labels, predicted_labels_lr, labels=text_clf_lr.classes_)\n",
        "\n",
        "# Mostrar matrices de confusión\n",
        "disp_tree = ConfusionMatrixDisplay(confusion_matrix=cm_tree, display_labels=text_clf_tree.classes_)\n",
        "disp_nb = ConfusionMatrixDisplay(confusion_matrix=cm_nb, display_labels=text_clf_nb.classes_)\n",
        "disp_lr = ConfusionMatrixDisplay(confusion_matrix=cm_lr, display_labels=text_clf_lr.classes_)\n",
        "\n",
        "disp_tree.plot(cmap=plt.cm.Blues)\n",
        "plt.title('Confusion Matrix (Decision Tree)')\n",
        "plt.show()\n",
        "\n",
        "disp_nb.plot(cmap=plt.cm.Blues)\n",
        "plt.title('Confusion Matrix (Naive Bayes)')\n",
        "plt.show()\n",
        "\n",
        "disp_lr.plot(cmap=plt.cm.Blues)\n",
        "plt.title('Confusion Matrix (Logistic Regression)')\n",
        "plt.show()\n",
        "\n",
        "# Calcular errores para cada modelo\n",
        "errors_tree = np.where(predicted_labels_tree != test_labels)[0]\n",
        "errors_nb = np.where(predicted_labels_nb != test_labels)[0]\n",
        "errors_lr = np.where(predicted_labels_lr != test_labels)[0]\n",
        "\n",
        "# Graficar histogramas de errores\n",
        "plt.hist(errors_tree, bins=range(len(test_texts)), alpha=0.5, label='Decision Tree')\n",
        "plt.hist(errors_nb, bins=range(len(test_texts)), alpha=0.5, label='Naive Bayes')\n",
        "plt.hist(errors_lr, bins=range(len(test_texts)), alpha=0.5, label='Logistic Regression')\n",
        "plt.xlabel('Index of Misclassified Samples')\n",
        "plt.ylabel('Frequency')\n",
        "plt.title('Error Histogram')\n",
        "plt.legend()\n",
        "plt.show()\n"
      ],
      "metadata": {
        "colab": {
          "base_uri": "https://localhost:8080/",
          "height": 1000
        },
        "id": "DFHFUYFO1GXB",
        "outputId": "9bf9ba59-4b99-4085-d716-c6494e97fe99"
      },
      "execution_count": null,
      "outputs": [
        {
          "output_type": "stream",
          "name": "stderr",
          "text": [
            "[nltk_data] Downloading package punkt to /root/nltk_data...\n",
            "[nltk_data]   Package punkt is already up-to-date!\n",
            "[nltk_data] Downloading package averaged_perceptron_tagger to\n",
            "[nltk_data]     /root/nltk_data...\n",
            "[nltk_data]   Package averaged_perceptron_tagger is already up-to-\n",
            "[nltk_data]       date!\n",
            "[nltk_data] Downloading package wordnet to /root/nltk_data...\n",
            "[nltk_data]   Package wordnet is already up-to-date!\n",
            "[nltk_data] Downloading package stopwords to /root/nltk_data...\n",
            "[nltk_data]   Package stopwords is already up-to-date!\n"
          ]
        },
        {
          "output_type": "stream",
          "name": "stdout",
          "text": [
            "Accuracy (Decision Tree): 0.8709677419354839\n",
            "Accuracy (Naive Bayes): 0.8709677419354839\n",
            "Accuracy (Logistic Regression): 0.8709677419354839\n"
          ]
        },
        {
          "output_type": "display_data",
          "data": {
            "text/plain": [
              "<Figure size 640x480 with 2 Axes>"
            ],
            "image/png": "[encoded data removed]"
          },
          "metadata": {}
        },
        {
          "output_type": "display_data",
          "data": {
            "text/plain": [
              "<Figure size 640x480 with 2 Axes>"
            ],
            "image/png": "[encoded data removed]"
          },
          "metadata": {}
        },
        {
          "output_type": "display_data",
          "data": {
            "text/plain": [
              "<Figure size 640x480 with 2 Axes>"
            ],
            "image/png": "[encoded data removed]"
          },
          "metadata": {}
        },
        {
          "output_type": "display_data",
          "data": {
            "text/plain": [
              "<Figure size 640x480 with 1 Axes>"
            ],
            "image/png": "[encoded data removed]"
          },
          "metadata": {}
        }
      ]
    },
    {
      "cell_type": "code",
      "source": [
        "\n",
        "import matplotlib.pyplot as plt\n",
        "from sklearn.svm import SVC\n",
        "from sklearn.ensemble import RandomForestClassifier\n",
        "from sklearn.metrics import roc_curve, auc\n",
        "\n",
        "# Crear un pipeline con TfidfVectorizer y SVC (Support Vector Classifier)\n",
        "text_clf_svc = Pipeline([\n",
        "    ('tfidf', TfidfVectorizer()),\n",
        "    ('clf', SVC(probability=True))  # Habilitar probabilidad para curva ROC\n",
        "])\n",
        "\n",
        "# Entrenar el modelo SVC\n",
        "text_clf_svc.fit(train_texts, train_labels)\n",
        "\n",
        "# Evaluar el modelo SVC\n",
        "accuracy_svc = text_clf_svc.score(test_texts, test_labels)\n",
        "print(\"Accuracy (SVC):\", accuracy_svc)\n",
        "\n",
        "# Crear un pipeline con TfidfVectorizer y RandomForestClassifier\n",
        "text_clf_rf = Pipeline([\n",
        "    ('tfidf', TfidfVectorizer()),\n",
        "    ('clf', RandomForestClassifier())\n",
        "])\n",
        "\n",
        "# Entrenar el modelo Random Forest\n",
        "text_clf_rf.fit(train_texts, train_labels)\n",
        "\n",
        "# Evaluar el modelo Random Forest\n",
        "accuracy_rf = text_clf_rf.score(test_texts, test_labels)\n",
        "print(\"Accuracy (Random Forest):\", accuracy_rf)\n",
        "\n",
        "# Predecir probabilidades para la curva ROC\n",
        "probas_tree = text_clf_tree.predict_proba(test_texts)[:, 1]\n",
        "probas_nb = text_clf_nb.predict_proba(test_texts)[:, 1]\n",
        "probas_lr = text_clf_lr.predict_proba(test_texts)[:, 1]\n",
        "probas_svc = text_clf_svc.predict_proba(test_texts)[:, 1]\n",
        "probas_rf = text_clf_rf.predict_proba(test_texts)[:, 1]\n",
        "\n",
        "# Calcular curva ROC para cada modelo\n",
        "fpr_tree, tpr_tree, _ = roc_curve(test_labels, probas_tree, pos_label='positive')\n",
        "fpr_nb, tpr_nb, _ = roc_curve(test_labels, probas_nb, pos_label='positive')\n",
        "fpr_lr, tpr_lr, _ = roc_curve(test_labels, probas_lr, pos_label='positive')\n",
        "fpr_svc, tpr_svc, _ = roc_curve(test_labels, probas_svc, pos_label='positive')\n",
        "fpr_rf, tpr_rf, _ = roc_curve(test_labels, probas_rf, pos_label='positive')\n",
        "\n",
        "# Calcular AUC para cada modelo\n",
        "roc_auc_tree = auc(fpr_tree, tpr_tree)\n",
        "roc_auc_nb = auc(fpr_nb, tpr_nb)\n",
        "roc_auc_lr = auc(fpr_lr, tpr_lr)\n",
        "roc_auc_svc = auc(fpr_svc, tpr_svc)\n",
        "roc_auc_rf = auc(fpr_rf, tpr_rf)\n",
        "\n",
        "# Graficar curvas ROC\n",
        "plt.figure()\n",
        "plt.plot(fpr_tree, tpr_tree, color='darkorange', lw=2, label='Decision Tree (AUC = %0.2f)' % roc_auc_tree)\n",
        "plt.plot(fpr_nb, tpr_nb, color='green', lw=2, label='Naive Bayes (AUC = %0.2f)' % roc_auc_nb)\n",
        "plt.plot(fpr_lr, tpr_lr, color='blue', lw=2, label='Logistic Regression (AUC = %0.2f)' % roc_auc_lr)\n",
        "plt.plot(fpr_svc, tpr_svc, color='red', lw=2, label='SVC (AUC = %0.2f)' % roc_auc_svc)\n",
        "plt.plot(fpr_rf, tpr_rf, color='purple', lw=2, label='Random Forest (AUC = %0.2f)' % roc_auc_rf)\n",
        "plt.plot([0, 1], [0, 1], color='navy', lw=2, linestyle='--')\n",
        "plt.xlim([0.0, 1.0])\n",
        "plt.ylim([0.0, 1.05])\n",
        "plt.xlabel('False Positive Rate')\n",
        "plt.ylabel('True Positive Rate')\n",
        "plt.title('Receiver Operating Characteristic (ROC)')\n",
        "plt.legend(loc=\"lower right\")\n",
        "plt.show()\n"
      ],
      "metadata": {
        "id": "BbL-BJ1m0twq",
        "colab": {
          "base_uri": "https://localhost:8080/",
          "height": 507
        },
        "outputId": "ac8e237b-ffb9-4e65-88f8-f1aaf59f8e9b"
      },
      "execution_count": null,
      "outputs": [
        {
          "output_type": "stream",
          "name": "stdout",
          "text": [
            "Accuracy (SVC): 0.8387096774193549\n",
            "Accuracy (Random Forest): 0.8709677419354839\n"
          ]
        },
        {
          "output_type": "display_data",
          "data": {
            "text/plain": [
              "<Figure size 640x480 with 1 Axes>"
            ],
            "image/png": "[encoded data removed]"
          },
          "metadata": {}
        }
      ]
    },
    {
      "cell_type": "code",
      "source": [
        "\n",
        "import matplotlib.pyplot as plt\n",
        "from sklearn.linear_model import LogisticRegressionCV\n",
        "from sklearn.model_selection import cross_val_score\n",
        "\n",
        "# Crear un pipeline con TfidfVectorizer y LogisticRegressionCV (para validación cruzada)\n",
        "text_clf_lr_cv = Pipeline([\n",
        "    ('tfidf', TfidfVectorizer()),\n",
        "    ('clf', LogisticRegressionCV(cv=5))  # 5-fold cross-validation\n",
        "])\n",
        "\n",
        "# Entrenar el modelo de regresión logística con validación cruzada\n",
        "text_clf_lr_cv.fit(train_texts, train_labels)\n",
        "\n",
        "# Evaluar el modelo usando cross_val_score\n",
        "scores_lr_cv = cross_val_score(text_clf_lr_cv, texts, labels, cv=5)\n",
        "print(\"Cross-Validation Accuracy (Logistic Regression with CV): %0.2f (+/- %0.2f)\" % (scores_lr_cv.mean(), scores_lr_cv.std() * 2))\n",
        "\n",
        "# Predecir probabilidades para la curva ROC (usando el modelo con validación cruzada)\n",
        "probas_lr_cv = text_clf_lr_cv.predict_proba(test_texts)[:, 1]\n",
        "\n",
        "# Calcular curva ROC para el modelo con validación cruzada\n",
        "fpr_lr_cv, tpr_lr_cv, _ = roc_curve(test_labels, probas_lr_cv, pos_label='positive')\n",
        "\n",
        "# Calcular AUC para el modelo con validación cruzada\n",
        "roc_auc_lr_cv = auc(fpr_lr_cv, tpr_lr_cv)\n",
        "\n",
        "# Graficar curvas ROC (incluyendo el modelo con validación cruzada)\n",
        "plt.figure()\n",
        "# ... (código anterior para graficar curvas ROC de otros modelos)\n",
        "plt.plot(fpr_lr_cv, tpr_lr_cv, color='cyan', lw=2, label='Logistic Regression with CV (AUC = %0.2f)' % roc_auc_lr_cv)\n",
        "# ... (resto del código para graficar curvas ROC)\n"
      ],
      "metadata": {
        "colab": {
          "base_uri": "https://localhost:8080/",
          "height": 465
        },
        "id": "SLqXKb9E7e-n",
        "outputId": "1dad9848-8cb3-4297-9aca-5ae5edf5e59c"
      },
      "execution_count": null,
      "outputs": [
        {
          "output_type": "stream",
          "name": "stdout",
          "text": [
            "Cross-Validation Accuracy (Logistic Regression with CV): 0.88 (+/- 0.13)\n"
          ]
        },
        {
          "output_type": "execute_result",
          "data": {
            "text/plain": [
              "[<matplotlib.lines.Line2D at 0x7e459cd17790>]"
            ]
          },
          "metadata": {},
          "execution_count": 21
        },
        {
          "output_type": "display_data",
          "data": {
            "text/plain": [
              "<Figure size 640x480 with 1 Axes>"
            ],
            "image/png": "[encoded data removed]"
          },
          "metadata": {}
        }
      ]
    },
    {
      "cell_type": "code",
      "source": [
        "# prompt: HAGAMPS UNA COMPARACION DE DESEMPEÑO SEGUN OS MODELOS ANTERIORES\n",
        "\n",
        "import pandas as pd\n",
        "# Crear una tabla para comparar el rendimiento de los modelos\n",
        "data = {'Modelo': ['Decision Tree', 'Naive Bayes', 'Logistic Regression', 'SVC', 'Random Forest', 'Logistic Regression with CV'],\n",
        "        'Accuracy': [accuracy_tree, accuracy_nb, accuracy_lr, accuracy_svc, accuracy_rf, scores_lr_cv.mean()],\n",
        "        'AUC': [roc_auc_tree, roc_auc_nb, roc_auc_lr, roc_auc_svc, roc_auc_rf, roc_auc_lr_cv]}\n",
        "\n",
        "df = pd.DataFrame(data)\n",
        "print(df)\n",
        "\n",
        "# Imprimir conclusiones basadas en la tabla\n",
        "print(\"\\nConclusiones:\")\n",
        "print(\"- El modelo con mejor precisión es:\", df.loc[df['Accuracy'].idxmax()]['Modelo'])\n",
        "print(\"- El modelo con mejor AUC es:\", df.loc[df['AUC'].idxmax()]['Modelo'])\n",
        "print(\"- La validación cruzada mejoró el rendimiento de la regresión logística.\")\n"
      ],
      "metadata": {
        "colab": {
          "base_uri": "https://localhost:8080/"
        },
        "id": "f1TS8_zR8xas",
        "outputId": "9277d1a2-c493-44c5-ddc1-a64f274ea589"
      },
      "execution_count": null,
      "outputs": [
        {
          "output_type": "stream",
          "name": "stdout",
          "text": [
            "                         Model  Accuracy       AUC\n",
            "5  Logistic Regression with CV  0.875484  0.944444\n",
            "0                Decision Tree  0.870968  0.606481\n",
            "1                  Naive Bayes  0.870968  0.898148\n",
            "2          Logistic Regression  0.870968  0.962963\n",
            "4                Random Forest  0.870968  0.944444\n",
            "3                          SVC  0.838710  0.935185\n"
          ]
        }
      ]
    }
  ]
}