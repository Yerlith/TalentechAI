{
 "cells": [
  {
   "cell_type": "code",
   "execution_count": 9,
   "id": "498e2fb0-9d51-44de-a36e-cb40abe956c8",
   "metadata": {},
   "outputs": [
    {
     "name": "stdout",
     "output_type": "stream",
     "text": [
      "    Nombres  Edad  Venta      Pais      Estado  Porcentaje de Venta\n",
      "0    Andres    23    345  Colombia    Completo            10.441889\n",
      "1     Maria    24    240      Peru  Incompleto             7.263923\n",
      "2      John    38    341     Chile    Completo            10.320823\n",
      "3     Carla    40    400      Peru    Completo            12.106538\n",
      "4  Cristian    27    273  Colombia    Completo             8.262712\n",
      "5       Ana    32    532      Peru    Completo            16.101695\n",
      "6     Sofia    35    635     Chile  Incompleto            19.219128\n",
      "7   Mathias    18    188      Peru    Completo             5.690073\n",
      "8   Daniela    22    220  Colombia    Completo             6.658596\n",
      "9     Julio    30    130    Canada  Sin estado             3.934625\n"
     ]
    }
   ],
   "source": [
    "import pandas as pd\n",
    "import matplotlib.pyplot as plt\n",
    "import numpy as np\n",
    "\n",
    "Nombres= ['Andres', 'Maria', 'John','Carla','Cristian','Ana','Sofia','Mathias','Daniela','Julio']\n",
    "\n",
    "Edad= [23,  24, 38, 40, 27, 32, 35, 18, 22, 30]\n",
    "Venta= [345,  240, 341, 400, 273, 532, 635, 188, 220, 130]\n",
    "Pais=['Colombia','Peru','Chile','Peru','Colombia','Peru','Chile','Peru','Colombia','Canada']\n",
    "Estado=['Completo','Incompleto','Completo','Completo','Completo','Completo','Incompleto','Completo','Completo','Sin estado']\n",
    "\n",
    "Data={\"Nombres\":Nombres,\n",
    "      \"Edad\": Edad,\n",
    "      \"Venta\": Venta,\n",
    "      \"Pais\": Pais,\n",
    "      \"Estado\": Estado}\n",
    "\n",
    "\n",
    "df = pd.DataFrame(Data)\n",
    "\n",
    "\n",
    "\n",
    "# Calcula el total de ventas\n",
    "total_ventas = df['Venta'].sum()\n",
    "\n",
    "# Calcula las ventas por nombre\n",
    "ventas_por_nombre = df.groupby('Nombres')['Venta'].sum()\n",
    "\n",
    "# Calcula el porcentaje de ventas por nombre\n",
    "porcentaje_ventas = (ventas_por_nombre / total_ventas) * 100\n",
    "\n",
    "# Añade la columna de porcentaje de ventas al DataFrame original\n",
    "df = df.merge(porcentaje_ventas.rename('Porcentaje de Venta'), on='Nombres')\n",
    "\n",
    "# Imprime el DataFrame actualizado\n",
    "print(df)\n",
    "\n",
    "\n",
    "\n",
    "\n",
    "\n"
   ]
  },
  {
   "cell_type": "code",
   "execution_count": null,
   "id": "08058f8c-530b-41ba-90bd-1cd6b3efb0f1",
   "metadata": {},
   "outputs": [],
   "source": []
  }
 ],
 "metadata": {
  "kernelspec": {
   "display_name": "Python 3 (ipykernel)",
   "language": "python",
   "name": "python3"
  },
  "language_info": {
   "codemirror_mode": {
    "name": "ipython",
    "version": 3
   },
   "file_extension": ".py",
   "mimetype": "text/x-python",
   "name": "python",
   "nbconvert_exporter": "python",
   "pygments_lexer": "ipython3",
   "version": "3.9.18"
  }
 },
 "nbformat": 4,
 "nbformat_minor": 5
}
